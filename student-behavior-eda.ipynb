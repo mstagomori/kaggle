{
 "cells": [
  {
   "cell_type": "code",
   "execution_count": 1,
   "id": "39ca8f9a",
   "metadata": {
    "_cell_guid": "b1076dfc-b9ad-4769-8c92-a6c4dae69d19",
    "_uuid": "8f2839f25d086af736a60e9eeb907d3b93b6e0e5",
    "execution": {
     "iopub.execute_input": "2024-04-23T22:32:33.673997Z",
     "iopub.status.busy": "2024-04-23T22:32:33.673174Z",
     "iopub.status.idle": "2024-04-23T22:32:35.924146Z",
     "shell.execute_reply": "2024-04-23T22:32:35.922618Z"
    },
    "papermill": {
     "duration": 2.264136,
     "end_time": "2024-04-23T22:32:35.927985",
     "exception": false,
     "start_time": "2024-04-23T22:32:33.663849",
     "status": "completed"
    },
    "tags": []
   },
   "outputs": [
    {
     "name": "stdout",
     "output_type": "stream",
     "text": [
      "/kaggle/input/student-behaviour/Student Attitude and Behavior.csv\n"
     ]
    }
   ],
   "source": [
    "# This Python 3 environment comes with many helpful analytics libraries installed\n",
    "# It is defined by the kaggle/python Docker image: https://github.com/kaggle/docker-python\n",
    "# For example, here's several helpful packages to load\n",
    "\n",
    "import numpy as np # linear algebra\n",
    "import pandas as pd # data processing, CSV file I/O (e.g. pd.read_csv)\n",
    "import plotly.express as px\n",
    "import plotly.graph_objects as go\n",
    "from plotly.subplots import make_subplots\n",
    "\n",
    "# Input data files are available in the read-only \"../input/\" directory\n",
    "# For example, running this (by clicking run or pressing Shift+Enter) will list all files under the input directory\n",
    "\n",
    "import os\n",
    "for dirname, _, filenames in os.walk('/kaggle/input'):\n",
    "    for filename in filenames:\n",
    "        print(os.path.join(dirname, filename))\n",
    "\n",
    "# You can write up to 20GB to the current directory (/kaggle/working/) that gets preserved as output when you create a version using \"Save & Run All\" \n",
    "# You can also write temporary files to /kaggle/temp/, but they won't be saved outside of the current session"
   ]
  },
  {
   "cell_type": "code",
   "execution_count": 2,
   "id": "7cd5498b",
   "metadata": {
    "execution": {
     "iopub.execute_input": "2024-04-23T22:32:35.952513Z",
     "iopub.status.busy": "2024-04-23T22:32:35.950507Z",
     "iopub.status.idle": "2024-04-23T22:32:35.984170Z",
     "shell.execute_reply": "2024-04-23T22:32:35.982332Z"
    },
    "papermill": {
     "duration": 0.052565,
     "end_time": "2024-04-23T22:32:35.988978",
     "exception": false,
     "start_time": "2024-04-23T22:32:35.936413",
     "status": "completed"
    },
    "tags": []
   },
   "outputs": [],
   "source": [
    "df = pd.read_csv('../input/student-behaviour/Student Attitude and Behavior.csv')"
   ]
  },
  {
   "cell_type": "markdown",
   "id": "1288434d",
   "metadata": {
    "papermill": {
     "duration": 0.007498,
     "end_time": "2024-04-23T22:32:36.006207",
     "exception": false,
     "start_time": "2024-04-23T22:32:35.998709",
     "status": "completed"
    },
    "tags": []
   },
   "source": [
    "## First Investigations"
   ]
  },
  {
   "cell_type": "code",
   "execution_count": 3,
   "id": "fee1b5e9",
   "metadata": {
    "execution": {
     "iopub.execute_input": "2024-04-23T22:32:36.023690Z",
     "iopub.status.busy": "2024-04-23T22:32:36.022716Z",
     "iopub.status.idle": "2024-04-23T22:32:36.063351Z",
     "shell.execute_reply": "2024-04-23T22:32:36.061799Z"
    },
    "papermill": {
     "duration": 0.052574,
     "end_time": "2024-04-23T22:32:36.066256",
     "exception": false,
     "start_time": "2024-04-23T22:32:36.013682",
     "status": "completed"
    },
    "tags": []
   },
   "outputs": [
    {
     "data": {
      "text/html": [
       "<div>\n",
       "<style scoped>\n",
       "    .dataframe tbody tr th:only-of-type {\n",
       "        vertical-align: middle;\n",
       "    }\n",
       "\n",
       "    .dataframe tbody tr th {\n",
       "        vertical-align: top;\n",
       "    }\n",
       "\n",
       "    .dataframe thead th {\n",
       "        text-align: right;\n",
       "    }\n",
       "</style>\n",
       "<table border=\"1\" class=\"dataframe\">\n",
       "  <thead>\n",
       "    <tr style=\"text-align: right;\">\n",
       "      <th></th>\n",
       "      <th>Certification Course</th>\n",
       "      <th>Gender</th>\n",
       "      <th>Department</th>\n",
       "      <th>Height(CM)</th>\n",
       "      <th>Weight(KG)</th>\n",
       "      <th>10th Mark</th>\n",
       "      <th>12th Mark</th>\n",
       "      <th>college mark</th>\n",
       "      <th>hobbies</th>\n",
       "      <th>daily studing time</th>\n",
       "      <th>prefer to study in</th>\n",
       "      <th>salary expectation</th>\n",
       "      <th>Do you like your degree?</th>\n",
       "      <th>willingness to pursue a career based on their degree</th>\n",
       "      <th>social medai &amp; video</th>\n",
       "      <th>Travelling Time</th>\n",
       "      <th>Stress Level</th>\n",
       "      <th>Financial Status</th>\n",
       "      <th>part-time job</th>\n",
       "    </tr>\n",
       "  </thead>\n",
       "  <tbody>\n",
       "    <tr>\n",
       "      <th>0</th>\n",
       "      <td>No</td>\n",
       "      <td>Male</td>\n",
       "      <td>BCA</td>\n",
       "      <td>100.0</td>\n",
       "      <td>58.0</td>\n",
       "      <td>79.0</td>\n",
       "      <td>64.0</td>\n",
       "      <td>80.0</td>\n",
       "      <td>Video Games</td>\n",
       "      <td>0 - 30 minute</td>\n",
       "      <td>Morning</td>\n",
       "      <td>40000</td>\n",
       "      <td>No</td>\n",
       "      <td>50%</td>\n",
       "      <td>1.30 - 2 hour</td>\n",
       "      <td>30 - 60 minutes</td>\n",
       "      <td>Bad</td>\n",
       "      <td>Bad</td>\n",
       "      <td>No</td>\n",
       "    </tr>\n",
       "    <tr>\n",
       "      <th>1</th>\n",
       "      <td>No</td>\n",
       "      <td>Female</td>\n",
       "      <td>BCA</td>\n",
       "      <td>90.0</td>\n",
       "      <td>40.0</td>\n",
       "      <td>70.0</td>\n",
       "      <td>80.0</td>\n",
       "      <td>70.0</td>\n",
       "      <td>Cinema</td>\n",
       "      <td>30 - 60 minute</td>\n",
       "      <td>Morning</td>\n",
       "      <td>15000</td>\n",
       "      <td>Yes</td>\n",
       "      <td>75%</td>\n",
       "      <td>1 - 1.30 hour</td>\n",
       "      <td>0 - 30 minutes</td>\n",
       "      <td>Bad</td>\n",
       "      <td>Bad</td>\n",
       "      <td>No</td>\n",
       "    </tr>\n",
       "    <tr>\n",
       "      <th>2</th>\n",
       "      <td>Yes</td>\n",
       "      <td>Male</td>\n",
       "      <td>BCA</td>\n",
       "      <td>159.0</td>\n",
       "      <td>78.0</td>\n",
       "      <td>71.0</td>\n",
       "      <td>61.0</td>\n",
       "      <td>55.0</td>\n",
       "      <td>Cinema</td>\n",
       "      <td>1 - 2 Hour</td>\n",
       "      <td>Anytime</td>\n",
       "      <td>13000</td>\n",
       "      <td>Yes</td>\n",
       "      <td>50%</td>\n",
       "      <td>More than 2 hour</td>\n",
       "      <td>30 - 60 minutes</td>\n",
       "      <td>Awful</td>\n",
       "      <td>Bad</td>\n",
       "      <td>No</td>\n",
       "    </tr>\n",
       "    <tr>\n",
       "      <th>3</th>\n",
       "      <td>Yes</td>\n",
       "      <td>Female</td>\n",
       "      <td>BCA</td>\n",
       "      <td>147.0</td>\n",
       "      <td>20.0</td>\n",
       "      <td>70.0</td>\n",
       "      <td>59.0</td>\n",
       "      <td>58.0</td>\n",
       "      <td>Reading books</td>\n",
       "      <td>1 - 2 Hour</td>\n",
       "      <td>Anytime</td>\n",
       "      <td>1500000</td>\n",
       "      <td>No</td>\n",
       "      <td>50%</td>\n",
       "      <td>1.30 - 2 hour</td>\n",
       "      <td>0 - 30 minutes</td>\n",
       "      <td>Bad</td>\n",
       "      <td>good</td>\n",
       "      <td>No</td>\n",
       "    </tr>\n",
       "    <tr>\n",
       "      <th>4</th>\n",
       "      <td>No</td>\n",
       "      <td>Male</td>\n",
       "      <td>BCA</td>\n",
       "      <td>170.0</td>\n",
       "      <td>54.0</td>\n",
       "      <td>40.0</td>\n",
       "      <td>65.0</td>\n",
       "      <td>30.0</td>\n",
       "      <td>Video Games</td>\n",
       "      <td>30 - 60 minute</td>\n",
       "      <td>Morning</td>\n",
       "      <td>50000</td>\n",
       "      <td>Yes</td>\n",
       "      <td>25%</td>\n",
       "      <td>1.30 - 2 hour</td>\n",
       "      <td>30 - 60 minutes</td>\n",
       "      <td>Good</td>\n",
       "      <td>good</td>\n",
       "      <td>No</td>\n",
       "    </tr>\n",
       "  </tbody>\n",
       "</table>\n",
       "</div>"
      ],
      "text/plain": [
       "  Certification Course  Gender Department  Height(CM)  Weight(KG)  10th Mark  \\\n",
       "0                   No    Male        BCA       100.0        58.0       79.0   \n",
       "1                   No  Female        BCA        90.0        40.0       70.0   \n",
       "2                  Yes    Male        BCA       159.0        78.0       71.0   \n",
       "3                  Yes  Female        BCA       147.0        20.0       70.0   \n",
       "4                   No    Male        BCA       170.0        54.0       40.0   \n",
       "\n",
       "   12th Mark  college mark        hobbies daily studing time  \\\n",
       "0       64.0          80.0    Video Games      0 - 30 minute   \n",
       "1       80.0          70.0         Cinema     30 - 60 minute   \n",
       "2       61.0          55.0         Cinema         1 - 2 Hour   \n",
       "3       59.0          58.0  Reading books         1 - 2 Hour   \n",
       "4       65.0          30.0    Video Games     30 - 60 minute   \n",
       "\n",
       "  prefer to study in  salary expectation Do you like your degree?  \\\n",
       "0            Morning               40000                       No   \n",
       "1            Morning               15000                      Yes   \n",
       "2            Anytime               13000                      Yes   \n",
       "3            Anytime             1500000                       No   \n",
       "4            Morning               50000                      Yes   \n",
       "\n",
       "  willingness to pursue a career based on their degree   social medai & video  \\\n",
       "0                                                50%            1.30 - 2 hour   \n",
       "1                                                75%            1 - 1.30 hour   \n",
       "2                                                50%         More than 2 hour   \n",
       "3                                                50%            1.30 - 2 hour   \n",
       "4                                                25%            1.30 - 2 hour   \n",
       "\n",
       "  Travelling Time  Stress Level  Financial Status part-time job  \n",
       "0  30 - 60 minutes           Bad              Bad            No  \n",
       "1   0 - 30 minutes           Bad              Bad            No  \n",
       "2  30 - 60 minutes         Awful              Bad            No  \n",
       "3   0 - 30 minutes           Bad             good            No  \n",
       "4  30 - 60 minutes          Good             good            No  "
      ]
     },
     "execution_count": 3,
     "metadata": {},
     "output_type": "execute_result"
    }
   ],
   "source": [
    "df.head()"
   ]
  },
  {
   "cell_type": "code",
   "execution_count": 4,
   "id": "f30fccab",
   "metadata": {
    "execution": {
     "iopub.execute_input": "2024-04-23T22:32:36.083215Z",
     "iopub.status.busy": "2024-04-23T22:32:36.082761Z",
     "iopub.status.idle": "2024-04-23T22:32:36.121866Z",
     "shell.execute_reply": "2024-04-23T22:32:36.120430Z"
    },
    "papermill": {
     "duration": 0.051378,
     "end_time": "2024-04-23T22:32:36.125154",
     "exception": false,
     "start_time": "2024-04-23T22:32:36.073776",
     "status": "completed"
    },
    "tags": []
   },
   "outputs": [
    {
     "name": "stdout",
     "output_type": "stream",
     "text": [
      "<class 'pandas.core.frame.DataFrame'>\n",
      "RangeIndex: 235 entries, 0 to 234\n",
      "Data columns (total 19 columns):\n",
      " #   Column                                                  Non-Null Count  Dtype  \n",
      "---  ------                                                  --------------  -----  \n",
      " 0   Certification Course                                    235 non-null    object \n",
      " 1   Gender                                                  235 non-null    object \n",
      " 2   Department                                              235 non-null    object \n",
      " 3   Height(CM)                                              235 non-null    float64\n",
      " 4   Weight(KG)                                              235 non-null    float64\n",
      " 5   10th Mark                                               235 non-null    float64\n",
      " 6   12th Mark                                               235 non-null    float64\n",
      " 7   college mark                                            235 non-null    float64\n",
      " 8   hobbies                                                 235 non-null    object \n",
      " 9   daily studing time                                      235 non-null    object \n",
      " 10  prefer to study in                                      235 non-null    object \n",
      " 11  salary expectation                                      235 non-null    int64  \n",
      " 12  Do you like your degree?                                235 non-null    object \n",
      " 13  willingness to pursue a career based on their degree    235 non-null    object \n",
      " 14  social medai & video                                    235 non-null    object \n",
      " 15  Travelling Time                                         235 non-null    object \n",
      " 16  Stress Level                                            235 non-null    object \n",
      " 17  Financial Status                                        235 non-null    object \n",
      " 18  part-time job                                           235 non-null    object \n",
      "dtypes: float64(5), int64(1), object(13)\n",
      "memory usage: 35.0+ KB\n"
     ]
    }
   ],
   "source": [
    "df.info()"
   ]
  },
  {
   "cell_type": "code",
   "execution_count": 5,
   "id": "bbf2b0a1",
   "metadata": {
    "execution": {
     "iopub.execute_input": "2024-04-23T22:32:36.143057Z",
     "iopub.status.busy": "2024-04-23T22:32:36.142529Z",
     "iopub.status.idle": "2024-04-23T22:32:36.163306Z",
     "shell.execute_reply": "2024-04-23T22:32:36.161411Z"
    },
    "papermill": {
     "duration": 0.035452,
     "end_time": "2024-04-23T22:32:36.168310",
     "exception": false,
     "start_time": "2024-04-23T22:32:36.132858",
     "status": "completed"
    },
    "tags": []
   },
   "outputs": [
    {
     "name": "stdout",
     "output_type": "stream",
     "text": [
      "Null values of most column with most nulls: 0\n",
      "Column names: Index(['certification_course', 'gender', 'department', 'height', 'weight',\n",
      "       '10th_mark', '12th_mark', 'college_mark', 'hobbies',\n",
      "       'daily_studing_time', 'prefer_to_study_in', 'salary_expectation',\n",
      "       'do_you_like_your_degree',\n",
      "       'willingness_to_pursue_a_career_based_on_their_degree',\n",
      "       'social_medai_&_video', 'travelling_time', 'stress_level_',\n",
      "       'financial_status', 'part_time_job'],\n",
      "      dtype='object')\n"
     ]
    }
   ],
   "source": [
    "# Reformatting column names\n",
    "df.columns = df.columns.str.lower().str.replace(' ','_')\n",
    "df.columns = df.columns.str.lower().str.replace('?','')\n",
    "df.columns = df.columns.str.lower().str.replace('-','_')\n",
    "df.columns = df.columns.str.lower().str.replace('__','')\n",
    "\n",
    "# Reformatting unnecessary column names\n",
    "df = df.rename(columns={\"height(cm)\": \"height\", \"weight(kg)\": \"weight\", \"travelling_time_\": \"travelling_time\"})\n",
    "\n",
    "# Checking for null values\n",
    "print('Null values of most column with most nulls:', df.isnull().sum().max())\n",
    "print('Column names:', df.columns)"
   ]
  },
  {
   "cell_type": "markdown",
   "id": "bb7f3ecf",
   "metadata": {
    "papermill": {
     "duration": 0.012336,
     "end_time": "2024-04-23T22:32:36.191159",
     "exception": false,
     "start_time": "2024-04-23T22:32:36.178823",
     "status": "completed"
    },
    "tags": []
   },
   "source": [
    "## Basic Visualizations"
   ]
  },
  {
   "cell_type": "code",
   "execution_count": 6,
   "id": "6ecda822",
   "metadata": {
    "execution": {
     "iopub.execute_input": "2024-04-23T22:32:36.216006Z",
     "iopub.status.busy": "2024-04-23T22:32:36.215372Z",
     "iopub.status.idle": "2024-04-23T22:32:36.950129Z",
     "shell.execute_reply": "2024-04-23T22:32:36.948730Z"
    },
    "papermill": {
     "duration": 0.750024,
     "end_time": "2024-04-23T22:32:36.952876",
     "exception": false,
     "start_time": "2024-04-23T22:32:36.202852",
     "status": "completed"
    },
    "tags": []
   },
   "outputs": [
    {
     "data": {
      "text/html": [
       "        <script type=\"text/javascript\">\n",
       "        window.PlotlyConfig = {MathJaxConfig: 'local'};\n",
       "        if (window.MathJax && window.MathJax.Hub && window.MathJax.Hub.Config) {window.MathJax.Hub.Config({SVG: {font: \"STIX-Web\"}});}\n",
       "        if (typeof require !== 'undefined') {\n",
       "        require.undef(\"plotly\");\n",
       "        requirejs.config({\n",
       "            paths: {\n",
       "                'plotly': ['https://cdn.plot.ly/plotly-2.27.0.min']\n",
       "            }\n",
       "        });\n",
       "        require(['plotly'], function(Plotly) {\n",
       "            window._Plotly = Plotly;\n",
       "        });\n",
       "        }\n",
       "        </script>\n",
       "        "
      ]
     },
     "metadata": {},
     "output_type": "display_data"
    },
    {
     "data": {
      "text/html": [
       "<div>                            <div id=\"8739d666-ada3-4640-b7fb-0ac80837b5ea\" class=\"plotly-graph-div\" style=\"height:720px; width:1280px;\"></div>            <script type=\"text/javascript\">                require([\"plotly\"], function(Plotly) {                    window.PLOTLYENV=window.PLOTLYENV || {};                                    if (document.getElementById(\"8739d666-ada3-4640-b7fb-0ac80837b5ea\")) {                    Plotly.newPlot(                        \"8739d666-ada3-4640-b7fb-0ac80837b5ea\",                        [{\"name\":\"Certification Course\",\"x\":[\"No\",\"No\",\"Yes\",\"Yes\",\"No\",\"Yes\",\"Yes\",\"No\",\"No\",\"No\",\"No\",\"No\",\"Yes\",\"No\",\"Yes\",\"Yes\",\"Yes\",\"Yes\",\"No\",\"Yes\",\"Yes\",\"No\",\"No\",\"No\",\"No\",\"No\",\"Yes\",\"No\",\"No\",\"No\",\"No\",\"No\",\"Yes\",\"No\",\"Yes\",\"No\",\"No\",\"No\",\"Yes\",\"No\",\"No\",\"No\",\"No\",\"No\",\"Yes\",\"Yes\",\"No\",\"No\",\"Yes\",\"No\",\"Yes\",\"Yes\",\"No\",\"Yes\",\"Yes\",\"No\",\"Yes\",\"Yes\",\"Yes\",\"Yes\",\"Yes\",\"Yes\",\"Yes\",\"Yes\",\"Yes\",\"Yes\",\"Yes\",\"Yes\",\"Yes\",\"Yes\",\"Yes\",\"No\",\"No\",\"Yes\",\"Yes\",\"Yes\",\"Yes\",\"Yes\",\"Yes\",\"Yes\",\"No\",\"Yes\",\"Yes\",\"Yes\",\"Yes\",\"No\",\"Yes\",\"Yes\",\"Yes\",\"No\",\"Yes\",\"Yes\",\"No\",\"No\",\"Yes\",\"Yes\",\"Yes\",\"Yes\",\"No\",\"No\",\"No\",\"Yes\",\"Yes\",\"Yes\",\"Yes\",\"No\",\"No\",\"Yes\",\"Yes\",\"Yes\",\"Yes\",\"Yes\",\"Yes\",\"Yes\",\"No\",\"No\",\"Yes\",\"Yes\",\"Yes\",\"Yes\",\"Yes\",\"Yes\",\"Yes\",\"Yes\",\"Yes\",\"Yes\",\"No\",\"Yes\",\"Yes\",\"No\",\"No\",\"Yes\",\"No\",\"Yes\",\"Yes\",\"Yes\",\"Yes\",\"No\",\"Yes\",\"Yes\",\"Yes\",\"Yes\",\"Yes\",\"Yes\",\"Yes\",\"Yes\",\"No\",\"Yes\",\"No\",\"No\",\"Yes\",\"No\",\"No\",\"Yes\",\"Yes\",\"Yes\",\"Yes\",\"Yes\",\"No\",\"Yes\",\"No\",\"Yes\",\"Yes\",\"Yes\",\"No\",\"Yes\",\"Yes\",\"Yes\",\"Yes\",\"Yes\",\"Yes\",\"Yes\",\"Yes\",\"No\",\"Yes\",\"No\",\"No\",\"Yes\",\"Yes\",\"Yes\",\"Yes\",\"No\",\"No\",\"Yes\",\"No\",\"Yes\",\"Yes\",\"Yes\",\"Yes\",\"No\",\"No\",\"No\",\"No\",\"No\",\"No\",\"Yes\",\"No\",\"Yes\",\"Yes\",\"No\",\"Yes\",\"Yes\",\"Yes\",\"No\",\"Yes\",\"Yes\",\"Yes\",\"Yes\",\"No\",\"Yes\",\"Yes\",\"No\",\"Yes\",\"No\",\"Yes\",\"No\",\"Yes\",\"Yes\",\"Yes\",\"No\",\"Yes\",\"Yes\",\"Yes\",\"Yes\",\"Yes\",\"Yes\",\"Yes\",\"Yes\",\"Yes\",\"No\",\"Yes\",\"Yes\",\"Yes\",\"Yes\",\"No\"],\"type\":\"histogram\",\"xaxis\":\"x\",\"yaxis\":\"y\"},{\"name\":\"Gender\",\"x\":[\"Male\",\"Female\",\"Male\",\"Female\",\"Male\",\"Female\",\"Male\",\"Male\",\"Male\",\"Male\",\"Male\",\"Female\",\"Female\",\"Male\",\"Male\",\"Male\",\"Male\",\"Male\",\"Male\",\"Female\",\"Male\",\"Male\",\"Female\",\"Male\",\"Male\",\"Male\",\"Male\",\"Male\",\"Female\",\"Female\",\"Male\",\"Male\",\"Male\",\"Male\",\"Male\",\"Male\",\"Female\",\"Female\",\"Male\",\"Male\",\"Female\",\"Female\",\"Female\",\"Male\",\"Male\",\"Female\",\"Male\",\"Male\",\"Male\",\"Male\",\"Male\",\"Female\",\"Male\",\"Female\",\"Female\",\"Male\",\"Female\",\"Female\",\"Female\",\"Male\",\"Female\",\"Female\",\"Male\",\"Male\",\"Male\",\"Male\",\"Female\",\"Male\",\"Male\",\"Male\",\"Male\",\"Female\",\"Female\",\"Male\",\"Male\",\"Male\",\"Female\",\"Male\",\"Male\",\"Male\",\"Female\",\"Female\",\"Male\",\"Male\",\"Male\",\"Male\",\"Female\",\"Female\",\"Male\",\"Male\",\"Female\",\"Male\",\"Male\",\"Male\",\"Male\",\"Male\",\"Female\",\"Male\",\"Male\",\"Male\",\"Female\",\"Female\",\"Female\",\"Male\",\"Male\",\"Male\",\"Male\",\"Male\",\"Male\",\"Male\",\"Male\",\"Female\",\"Male\",\"Male\",\"Male\",\"Male\",\"Male\",\"Male\",\"Male\",\"Male\",\"Female\",\"Male\",\"Male\",\"Male\",\"Female\",\"Female\",\"Male\",\"Male\",\"Male\",\"Male\",\"Male\",\"Male\",\"Male\",\"Male\",\"Male\",\"Female\",\"Male\",\"Male\",\"Female\",\"Female\",\"Male\",\"Male\",\"Male\",\"Male\",\"Female\",\"Male\",\"Male\",\"Female\",\"Female\",\"Female\",\"Male\",\"Male\",\"Male\",\"Female\",\"Female\",\"Female\",\"Male\",\"Female\",\"Male\",\"Male\",\"Male\",\"Male\",\"Male\",\"Male\",\"Male\",\"Male\",\"Female\",\"Male\",\"Male\",\"Male\",\"Female\",\"Male\",\"Female\",\"Female\",\"Male\",\"Male\",\"Female\",\"Female\",\"Female\",\"Female\",\"Female\",\"Male\",\"Female\",\"Male\",\"Male\",\"Male\",\"Male\",\"Male\",\"Male\",\"Male\",\"Male\",\"Male\",\"Male\",\"Male\",\"Female\",\"Male\",\"Female\",\"Male\",\"Male\",\"Male\",\"Male\",\"Male\",\"Female\",\"Male\",\"Male\",\"Male\",\"Female\",\"Male\",\"Male\",\"Male\",\"Female\",\"Male\",\"Female\",\"Male\",\"Female\",\"Female\",\"Female\",\"Female\",\"Male\",\"Male\",\"Male\",\"Female\",\"Male\",\"Male\",\"Female\",\"Female\",\"Female\",\"Male\",\"Male\",\"Female\",\"Male\",\"Male\",\"Female\",\"Female\",\"Female\"],\"type\":\"histogram\",\"xaxis\":\"x\",\"yaxis\":\"y\"},{\"name\":\"Department\",\"x\":[\"BCA\",\"BCA\",\"BCA\",\"BCA\",\"BCA\",\"BCA\",\"BCA\",\"BCA\",\"BCA\",\"BCA\",\"BCA\",\"BCA\",\"BCA\",\"BCA\",\"BCA\",\"BCA\",\"BCA\",\"BCA\",\"BCA\",\"BCA\",\"BCA\",\"BCA\",\"BCA\",\"BCA\",\"BCA\",\"BCA\",\"BCA\",\"BCA\",\"BCA\",\"BCA\",\"BCA\",\"BCA\",\"BCA\",\"BCA\",\"BCA\",\"BCA\",\"BCA\",\"BCA\",\"BCA\",\"BCA\",\"BCA\",\"BCA\",\"Commerce\",\"Commerce\",\"Commerce\",\"B.com Accounting and Finance \",\"B.com Accounting and Finance \",\"B.com Accounting and Finance \",\"B.com Accounting and Finance \",\"B.com Accounting and Finance \",\"B.com Accounting and Finance \",\"B.com Accounting and Finance \",\"B.com Accounting and Finance \",\"Commerce\",\"Commerce\",\"Commerce\",\"Commerce\",\"Commerce\",\"Commerce\",\"B.com Accounting and Finance \",\"Commerce\",\"Commerce\",\"Commerce\",\"BCA\",\"BCA\",\"BCA\",\"BCA\",\"BCA\",\"BCA\",\"BCA\",\"BCA\",\"BCA\",\"BCA\",\"BCA\",\"BCA\",\"BCA\",\"BCA\",\"BCA\",\"BCA\",\"BCA\",\"BCA\",\"BCA\",\"BCA\",\"BCA\",\"BCA\",\"BCA\",\"BCA\",\"BCA\",\"BCA\",\"BCA\",\"BCA\",\"BCA\",\"BCA\",\"BCA\",\"BCA\",\"BCA\",\"BCA\",\"BCA\",\"BCA\",\"BCA\",\"BCA\",\"BCA\",\"BCA\",\"BCA\",\"BCA\",\"BCA\",\"BCA\",\"BCA\",\"BCA\",\"BCA\",\"BCA\",\"BCA\",\"BCA\",\"BCA\",\"BCA\",\"BCA\",\"BCA\",\"BCA\",\"BCA\",\"BCA\",\"B.com Accounting and Finance \",\"BCA\",\"BCA\",\"BCA\",\"BCA\",\"BCA\",\"BCA\",\"BCA\",\"BCA\",\"BCA\",\"BCA\",\"BCA\",\"BCA\",\"B.com Accounting and Finance \",\"BCA\",\"BCA\",\"BCA\",\"BCA\",\"BCA\",\"BCA\",\"BCA\",\"BCA\",\"BCA\",\"BCA\",\"B.com Accounting and Finance \",\"B.com Accounting and Finance \",\"BCA\",\"B.com Accounting and Finance \",\"B.com Accounting and Finance \",\"BCA\",\"BCA\",\"BCA\",\"BCA\",\"BCA\",\"BCA\",\"BCA\",\"BCA\",\"BCA\",\"Commerce\",\"Commerce\",\"Commerce\",\"Commerce\",\"Commerce\",\"Commerce\",\"Commerce\",\"Commerce\",\"Commerce\",\"Commerce\",\"Commerce\",\"Commerce\",\"Commerce\",\"Commerce\",\"Commerce\",\"Commerce\",\"Commerce\",\"Commerce\",\"Commerce\",\"Commerce\",\"Commerce\",\"Commerce\",\"B.com ISM\",\"B.com ISM\",\"B.com ISM\",\"B.com ISM\",\"B.com ISM\",\"B.com ISM\",\"B.com ISM\",\"B.com ISM\",\"B.com ISM\",\"B.com ISM\",\"B.com ISM\",\"B.com ISM\",\"B.com ISM\",\"B.com ISM\",\"B.com ISM\",\"B.com ISM\",\"B.com ISM\",\"B.com ISM\",\"B.com ISM\",\"B.com ISM\",\"B.com ISM\",\"B.com ISM\",\"Commerce\",\"Commerce\",\"Commerce\",\"Commerce\",\"Commerce\",\"Commerce\",\"Commerce\",\"Commerce\",\"Commerce\",\"Commerce\",\"Commerce\",\"Commerce\",\"Commerce\",\"Commerce\",\"Commerce\",\"Commerce\",\"Commerce\",\"Commerce\",\"Commerce\",\"Commerce\",\"Commerce\",\"Commerce\",\"Commerce\",\"Commerce\",\"Commerce\",\"B.com ISM\",\"B.com ISM\",\"B.com ISM\",\"B.com ISM\",\"B.com ISM\",\"BCA\",\"Commerce\",\"B.com ISM\"],\"type\":\"histogram\",\"xaxis\":\"x2\",\"yaxis\":\"y2\"},{\"name\":\"Hobbies\",\"x\":[\"Video Games\",\"Cinema\",\"Cinema\",\"Reading books\",\"Video Games\",\"Cinema\",\"Reading books\",\"Sports\",\"Video Games\",\"Video Games\",\"Video Games\",\"Cinema\",\"Reading books\",\"Cinema\",\"Cinema\",\"Video Games\",\"Sports\",\"Cinema\",\"Cinema\",\"Cinema\",\"Sports\",\"Cinema\",\"Cinema\",\"Video Games\",\"Cinema\",\"Sports\",\"Cinema\",\"Sports\",\"Sports\",\"Reading books\",\"Sports\",\"Sports\",\"Sports\",\"Cinema\",\"Video Games\",\"Sports\",\"Sports\",\"Cinema\",\"Video Games\",\"Video Games\",\"Sports\",\"Reading books\",\"Cinema\",\"Cinema\",\"Sports\",\"Sports\",\"Sports\",\"Video Games\",\"Reading books\",\"Reading books\",\"Sports\",\"Sports\",\"Reading books\",\"Reading books\",\"Reading books\",\"Sports\",\"Reading books\",\"Sports\",\"Sports\",\"Sports\",\"Cinema\",\"Cinema\",\"Cinema\",\"Sports\",\"Video Games\",\"Cinema\",\"Reading books\",\"Reading books\",\"Cinema\",\"Reading books\",\"Sports\",\"Sports\",\"Cinema\",\"Sports\",\"Video Games\",\"Sports\",\"Reading books\",\"Cinema\",\"Sports\",\"Reading books\",\"Sports\",\"Cinema\",\"Sports\",\"Cinema\",\"Reading books\",\"Cinema\",\"Cinema\",\"Video Games\",\"Sports\",\"Sports\",\"Cinema\",\"Sports\",\"Reading books\",\"Sports\",\"Cinema\",\"Sports\",\"Cinema\",\"Sports\",\"Sports\",\"Video Games\",\"Sports\",\"Reading books\",\"Reading books\",\"Reading books\",\"Sports\",\"Cinema\",\"Video Games\",\"Video Games\",\"Reading books\",\"Sports\",\"Sports\",\"Cinema\",\"Cinema\",\"Cinema\",\"Reading books\",\"Video Games\",\"Video Games\",\"Sports\",\"Sports\",\"Cinema\",\"Reading books\",\"Video Games\",\"Sports\",\"Video Games\",\"Cinema\",\"Cinema\",\"Sports\",\"Cinema\",\"Reading books\",\"Cinema\",\"Sports\",\"Sports\",\"Sports\",\"Cinema\",\"Video Games\",\"Sports\",\"Cinema\",\"Reading books\",\"Video Games\",\"Sports\",\"Sports\",\"Sports\",\"Sports\",\"Reading books\",\"Sports\",\"Sports\",\"Cinema\",\"Cinema\",\"Reading books\",\"Sports\",\"Video Games\",\"Sports\",\"Sports\",\"Cinema\",\"Reading books\",\"Video Games\",\"Video Games\",\"Cinema\",\"Sports\",\"Cinema\",\"Sports\",\"Video Games\",\"Video Games\",\"Reading books\",\"Cinema\",\"Video Games\",\"Cinema\",\"Sports\",\"Cinema\",\"Sports\",\"Sports\",\"Sports\",\"Cinema\",\"Sports\",\"Cinema\",\"Sports\",\"Sports\",\"Cinema\",\"Cinema\",\"Cinema\",\"Cinema\",\"Video Games\",\"Sports\",\"Cinema\",\"Sports\",\"Cinema\",\"Sports\",\"Sports\",\"Sports\",\"Reading books\",\"Video Games\",\"Video Games\",\"Video Games\",\"Video Games\",\"Cinema\",\"Cinema\",\"Sports\",\"Cinema\",\"Cinema\",\"Sports\",\"Reading books\",\"Cinema\",\"Cinema\",\"Cinema\",\"Sports\",\"Sports\",\"Cinema\",\"Sports\",\"Cinema\",\"Video Games\",\"Sports\",\"Cinema\",\"Cinema\",\"Sports\",\"Reading books\",\"Sports\",\"Cinema\",\"Cinema\",\"Sports\",\"Cinema\",\"Cinema\",\"Cinema\",\"Sports\",\"Cinema\",\"Reading books\",\"Reading books\",\"Reading books\",\"Sports\",\"Sports\",\"Sports\",\"Video Games\",\"Cinema\",\"Cinema\",\"Cinema\",\"Sports\"],\"type\":\"histogram\",\"xaxis\":\"x2\",\"yaxis\":\"y2\"}],                        {\"template\":{\"data\":{\"histogram2dcontour\":[{\"type\":\"histogram2dcontour\",\"colorbar\":{\"outlinewidth\":0,\"ticks\":\"\"},\"colorscale\":[[0.0,\"#0d0887\"],[0.1111111111111111,\"#46039f\"],[0.2222222222222222,\"#7201a8\"],[0.3333333333333333,\"#9c179e\"],[0.4444444444444444,\"#bd3786\"],[0.5555555555555556,\"#d8576b\"],[0.6666666666666666,\"#ed7953\"],[0.7777777777777778,\"#fb9f3a\"],[0.8888888888888888,\"#fdca26\"],[1.0,\"#f0f921\"]]}],\"choropleth\":[{\"type\":\"choropleth\",\"colorbar\":{\"outlinewidth\":0,\"ticks\":\"\"}}],\"histogram2d\":[{\"type\":\"histogram2d\",\"colorbar\":{\"outlinewidth\":0,\"ticks\":\"\"},\"colorscale\":[[0.0,\"#0d0887\"],[0.1111111111111111,\"#46039f\"],[0.2222222222222222,\"#7201a8\"],[0.3333333333333333,\"#9c179e\"],[0.4444444444444444,\"#bd3786\"],[0.5555555555555556,\"#d8576b\"],[0.6666666666666666,\"#ed7953\"],[0.7777777777777778,\"#fb9f3a\"],[0.8888888888888888,\"#fdca26\"],[1.0,\"#f0f921\"]]}],\"heatmap\":[{\"type\":\"heatmap\",\"colorbar\":{\"outlinewidth\":0,\"ticks\":\"\"},\"colorscale\":[[0.0,\"#0d0887\"],[0.1111111111111111,\"#46039f\"],[0.2222222222222222,\"#7201a8\"],[0.3333333333333333,\"#9c179e\"],[0.4444444444444444,\"#bd3786\"],[0.5555555555555556,\"#d8576b\"],[0.6666666666666666,\"#ed7953\"],[0.7777777777777778,\"#fb9f3a\"],[0.8888888888888888,\"#fdca26\"],[1.0,\"#f0f921\"]]}],\"heatmapgl\":[{\"type\":\"heatmapgl\",\"colorbar\":{\"outlinewidth\":0,\"ticks\":\"\"},\"colorscale\":[[0.0,\"#0d0887\"],[0.1111111111111111,\"#46039f\"],[0.2222222222222222,\"#7201a8\"],[0.3333333333333333,\"#9c179e\"],[0.4444444444444444,\"#bd3786\"],[0.5555555555555556,\"#d8576b\"],[0.6666666666666666,\"#ed7953\"],[0.7777777777777778,\"#fb9f3a\"],[0.8888888888888888,\"#fdca26\"],[1.0,\"#f0f921\"]]}],\"contourcarpet\":[{\"type\":\"contourcarpet\",\"colorbar\":{\"outlinewidth\":0,\"ticks\":\"\"}}],\"contour\":[{\"type\":\"contour\",\"colorbar\":{\"outlinewidth\":0,\"ticks\":\"\"},\"colorscale\":[[0.0,\"#0d0887\"],[0.1111111111111111,\"#46039f\"],[0.2222222222222222,\"#7201a8\"],[0.3333333333333333,\"#9c179e\"],[0.4444444444444444,\"#bd3786\"],[0.5555555555555556,\"#d8576b\"],[0.6666666666666666,\"#ed7953\"],[0.7777777777777778,\"#fb9f3a\"],[0.8888888888888888,\"#fdca26\"],[1.0,\"#f0f921\"]]}],\"surface\":[{\"type\":\"surface\",\"colorbar\":{\"outlinewidth\":0,\"ticks\":\"\"},\"colorscale\":[[0.0,\"#0d0887\"],[0.1111111111111111,\"#46039f\"],[0.2222222222222222,\"#7201a8\"],[0.3333333333333333,\"#9c179e\"],[0.4444444444444444,\"#bd3786\"],[0.5555555555555556,\"#d8576b\"],[0.6666666666666666,\"#ed7953\"],[0.7777777777777778,\"#fb9f3a\"],[0.8888888888888888,\"#fdca26\"],[1.0,\"#f0f921\"]]}],\"mesh3d\":[{\"type\":\"mesh3d\",\"colorbar\":{\"outlinewidth\":0,\"ticks\":\"\"}}],\"scatter\":[{\"fillpattern\":{\"fillmode\":\"overlay\",\"size\":10,\"solidity\":0.2},\"type\":\"scatter\"}],\"parcoords\":[{\"type\":\"parcoords\",\"line\":{\"colorbar\":{\"outlinewidth\":0,\"ticks\":\"\"}}}],\"scatterpolargl\":[{\"type\":\"scatterpolargl\",\"marker\":{\"colorbar\":{\"outlinewidth\":0,\"ticks\":\"\"}}}],\"bar\":[{\"error_x\":{\"color\":\"#2a3f5f\"},\"error_y\":{\"color\":\"#2a3f5f\"},\"marker\":{\"line\":{\"color\":\"#E5ECF6\",\"width\":0.5},\"pattern\":{\"fillmode\":\"overlay\",\"size\":10,\"solidity\":0.2}},\"type\":\"bar\"}],\"scattergeo\":[{\"type\":\"scattergeo\",\"marker\":{\"colorbar\":{\"outlinewidth\":0,\"ticks\":\"\"}}}],\"scatterpolar\":[{\"type\":\"scatterpolar\",\"marker\":{\"colorbar\":{\"outlinewidth\":0,\"ticks\":\"\"}}}],\"histogram\":[{\"marker\":{\"pattern\":{\"fillmode\":\"overlay\",\"size\":10,\"solidity\":0.2}},\"type\":\"histogram\"}],\"scattergl\":[{\"type\":\"scattergl\",\"marker\":{\"colorbar\":{\"outlinewidth\":0,\"ticks\":\"\"}}}],\"scatter3d\":[{\"type\":\"scatter3d\",\"line\":{\"colorbar\":{\"outlinewidth\":0,\"ticks\":\"\"}},\"marker\":{\"colorbar\":{\"outlinewidth\":0,\"ticks\":\"\"}}}],\"scattermapbox\":[{\"type\":\"scattermapbox\",\"marker\":{\"colorbar\":{\"outlinewidth\":0,\"ticks\":\"\"}}}],\"scatterternary\":[{\"type\":\"scatterternary\",\"marker\":{\"colorbar\":{\"outlinewidth\":0,\"ticks\":\"\"}}}],\"scattercarpet\":[{\"type\":\"scattercarpet\",\"marker\":{\"colorbar\":{\"outlinewidth\":0,\"ticks\":\"\"}}}],\"carpet\":[{\"aaxis\":{\"endlinecolor\":\"#2a3f5f\",\"gridcolor\":\"white\",\"linecolor\":\"white\",\"minorgridcolor\":\"white\",\"startlinecolor\":\"#2a3f5f\"},\"baxis\":{\"endlinecolor\":\"#2a3f5f\",\"gridcolor\":\"white\",\"linecolor\":\"white\",\"minorgridcolor\":\"white\",\"startlinecolor\":\"#2a3f5f\"},\"type\":\"carpet\"}],\"table\":[{\"cells\":{\"fill\":{\"color\":\"#EBF0F8\"},\"line\":{\"color\":\"white\"}},\"header\":{\"fill\":{\"color\":\"#C8D4E3\"},\"line\":{\"color\":\"white\"}},\"type\":\"table\"}],\"barpolar\":[{\"marker\":{\"line\":{\"color\":\"#E5ECF6\",\"width\":0.5},\"pattern\":{\"fillmode\":\"overlay\",\"size\":10,\"solidity\":0.2}},\"type\":\"barpolar\"}],\"pie\":[{\"automargin\":true,\"type\":\"pie\"}]},\"layout\":{\"autotypenumbers\":\"strict\",\"colorway\":[\"#636efa\",\"#EF553B\",\"#00cc96\",\"#ab63fa\",\"#FFA15A\",\"#19d3f3\",\"#FF6692\",\"#B6E880\",\"#FF97FF\",\"#FECB52\"],\"font\":{\"color\":\"#2a3f5f\"},\"hovermode\":\"closest\",\"hoverlabel\":{\"align\":\"left\"},\"paper_bgcolor\":\"white\",\"plot_bgcolor\":\"#E5ECF6\",\"polar\":{\"bgcolor\":\"#E5ECF6\",\"angularaxis\":{\"gridcolor\":\"white\",\"linecolor\":\"white\",\"ticks\":\"\"},\"radialaxis\":{\"gridcolor\":\"white\",\"linecolor\":\"white\",\"ticks\":\"\"}},\"ternary\":{\"bgcolor\":\"#E5ECF6\",\"aaxis\":{\"gridcolor\":\"white\",\"linecolor\":\"white\",\"ticks\":\"\"},\"baxis\":{\"gridcolor\":\"white\",\"linecolor\":\"white\",\"ticks\":\"\"},\"caxis\":{\"gridcolor\":\"white\",\"linecolor\":\"white\",\"ticks\":\"\"}},\"coloraxis\":{\"colorbar\":{\"outlinewidth\":0,\"ticks\":\"\"}},\"colorscale\":{\"sequential\":[[0.0,\"#0d0887\"],[0.1111111111111111,\"#46039f\"],[0.2222222222222222,\"#7201a8\"],[0.3333333333333333,\"#9c179e\"],[0.4444444444444444,\"#bd3786\"],[0.5555555555555556,\"#d8576b\"],[0.6666666666666666,\"#ed7953\"],[0.7777777777777778,\"#fb9f3a\"],[0.8888888888888888,\"#fdca26\"],[1.0,\"#f0f921\"]],\"sequentialminus\":[[0.0,\"#0d0887\"],[0.1111111111111111,\"#46039f\"],[0.2222222222222222,\"#7201a8\"],[0.3333333333333333,\"#9c179e\"],[0.4444444444444444,\"#bd3786\"],[0.5555555555555556,\"#d8576b\"],[0.6666666666666666,\"#ed7953\"],[0.7777777777777778,\"#fb9f3a\"],[0.8888888888888888,\"#fdca26\"],[1.0,\"#f0f921\"]],\"diverging\":[[0,\"#8e0152\"],[0.1,\"#c51b7d\"],[0.2,\"#de77ae\"],[0.3,\"#f1b6da\"],[0.4,\"#fde0ef\"],[0.5,\"#f7f7f7\"],[0.6,\"#e6f5d0\"],[0.7,\"#b8e186\"],[0.8,\"#7fbc41\"],[0.9,\"#4d9221\"],[1,\"#276419\"]]},\"xaxis\":{\"gridcolor\":\"white\",\"linecolor\":\"white\",\"ticks\":\"\",\"title\":{\"standoff\":15},\"zerolinecolor\":\"white\",\"automargin\":true,\"zerolinewidth\":2},\"yaxis\":{\"gridcolor\":\"white\",\"linecolor\":\"white\",\"ticks\":\"\",\"title\":{\"standoff\":15},\"zerolinecolor\":\"white\",\"automargin\":true,\"zerolinewidth\":2},\"scene\":{\"xaxis\":{\"backgroundcolor\":\"#E5ECF6\",\"gridcolor\":\"white\",\"linecolor\":\"white\",\"showbackground\":true,\"ticks\":\"\",\"zerolinecolor\":\"white\",\"gridwidth\":2},\"yaxis\":{\"backgroundcolor\":\"#E5ECF6\",\"gridcolor\":\"white\",\"linecolor\":\"white\",\"showbackground\":true,\"ticks\":\"\",\"zerolinecolor\":\"white\",\"gridwidth\":2},\"zaxis\":{\"backgroundcolor\":\"#E5ECF6\",\"gridcolor\":\"white\",\"linecolor\":\"white\",\"showbackground\":true,\"ticks\":\"\",\"zerolinecolor\":\"white\",\"gridwidth\":2}},\"shapedefaults\":{\"line\":{\"color\":\"#2a3f5f\"}},\"annotationdefaults\":{\"arrowcolor\":\"#2a3f5f\",\"arrowhead\":0,\"arrowwidth\":1},\"geo\":{\"bgcolor\":\"white\",\"landcolor\":\"#E5ECF6\",\"subunitcolor\":\"white\",\"showland\":true,\"showlakes\":true,\"lakecolor\":\"white\"},\"title\":{\"x\":0.05},\"mapbox\":{\"style\":\"light\"}}},\"xaxis\":{\"anchor\":\"y\",\"domain\":[0.0,1.0]},\"yaxis\":{\"anchor\":\"x\",\"domain\":[0.575,1.0]},\"xaxis2\":{\"anchor\":\"y2\",\"domain\":[0.0,1.0]},\"yaxis2\":{\"anchor\":\"x2\",\"domain\":[0.0,0.425]},\"width\":1280,\"height\":720,\"title\":{\"text\":\"Certification & Gender, Department & Hobbies Histograms\"}},                        {\"responsive\": true}                    ).then(function(){\n",
       "                            \n",
       "var gd = document.getElementById('8739d666-ada3-4640-b7fb-0ac80837b5ea');\n",
       "var x = new MutationObserver(function (mutations, observer) {{\n",
       "        var display = window.getComputedStyle(gd).display;\n",
       "        if (!display || display === 'none') {{\n",
       "            console.log([gd, 'removed!']);\n",
       "            Plotly.purge(gd);\n",
       "            observer.disconnect();\n",
       "        }}\n",
       "}});\n",
       "\n",
       "// Listen for the removal of the full notebook cells\n",
       "var notebookContainer = gd.closest('#notebook-container');\n",
       "if (notebookContainer) {{\n",
       "    x.observe(notebookContainer, {childList: true});\n",
       "}}\n",
       "\n",
       "// Listen for the clearing of the current output cell\n",
       "var outputEl = gd.closest('.output');\n",
       "if (outputEl) {{\n",
       "    x.observe(outputEl, {childList: true});\n",
       "}}\n",
       "\n",
       "                        })                };                });            </script>        </div>"
      ]
     },
     "metadata": {},
     "output_type": "display_data"
    }
   ],
   "source": [
    "fig = make_subplots(rows=2, cols=1)\n",
    "fig.add_trace(go.Histogram(x=df.certification_course, name=\"Certification Course\"), row = 1, col = 1)\n",
    "fig.add_trace(go.Histogram(x=df.gender, name=\"Gender\"), row = 1, col = 1)\n",
    "fig.add_trace(go.Histogram(x=df.department, name=\"Department\"), row = 2, col = 1)\n",
    "fig.add_trace(go.Histogram(x=df.hobbies, name=\"Hobbies\"), row = 2, col = 1)\n",
    "\n",
    "fig.update_layout(width=1280, height=720, title='Certification & Gender, Department & Hobbies Histograms')\n",
    "fig.show()"
   ]
  },
  {
   "cell_type": "markdown",
   "id": "95d1ffa9",
   "metadata": {
    "papermill": {
     "duration": 0.007986,
     "end_time": "2024-04-23T22:32:36.969214",
     "exception": false,
     "start_time": "2024-04-23T22:32:36.961228",
     "status": "completed"
    },
    "tags": []
   },
   "source": [
    "## Physical Aspects"
   ]
  },
  {
   "cell_type": "code",
   "execution_count": 7,
   "id": "7c998a7c",
   "metadata": {
    "execution": {
     "iopub.execute_input": "2024-04-23T22:32:36.988358Z",
     "iopub.status.busy": "2024-04-23T22:32:36.987904Z",
     "iopub.status.idle": "2024-04-23T22:32:37.044428Z",
     "shell.execute_reply": "2024-04-23T22:32:37.043086Z"
    },
    "papermill": {
     "duration": 0.070163,
     "end_time": "2024-04-23T22:32:37.047424",
     "exception": false,
     "start_time": "2024-04-23T22:32:36.977261",
     "status": "completed"
    },
    "tags": []
   },
   "outputs": [
    {
     "data": {
      "text/html": [
       "<div>                            <div id=\"f3005aa6-9300-41d6-a4b9-0199df4bdca9\" class=\"plotly-graph-div\" style=\"height:720px; width:1280px;\"></div>            <script type=\"text/javascript\">                require([\"plotly\"], function(Plotly) {                    window.PLOTLYENV=window.PLOTLYENV || {};                                    if (document.getElementById(\"f3005aa6-9300-41d6-a4b9-0199df4bdca9\")) {                    Plotly.newPlot(                        \"f3005aa6-9300-41d6-a4b9-0199df4bdca9\",                        [{\"name\":\"Height (cm)\",\"y\":[100.0,90.0,159.0,147.0,170.0,139.0,165.0,152.0,190.0,150.0,99.0,152.0,158.0,160.0,160.0,156.0,153.0,162.0,150.0,109.0,160.0,154.0,142.0,180.0,167.0,90.0,175.0,151.0,145.0,99.0,151.0,158.0,160.0,163.0,160.0,144.0,155.0,150.0,185.0,165.0,175.0,98.0,159.0,160.0,160.0,154.0,160.0,90.0,156.0,155.0,153.0,157.0,170.0,159.0,180.0,100.0,156.0,167.0,152.0,152.0,146.0,156.0,190.0,155.0,160.0,153.0,160.0,100.0,157.0,162.0,99.0,162.0,160.0,190.0,160.0,150.0,175.0,172.0,157.0,100.0,155.0,156.0,106.0,170.0,171.0,177.0,170.0,180.0,174.0,172.0,153.0,158.0,177.0,175.0,170.0,180.0,4.5,170.0,178.0,180.0,150.0,170.0,162.0,170.0,153.0,165.0,163.0,183.0,175.0,156.0,154.0,172.0,155.0,172.0,181.0,150.0,179.0,187.0,167.0,170.0,132.0,169.0,150.0,180.0,154.0,139.0,175.0,172.0,170.0,170.0,185.0,177.0,170.0,174.0,167.0,155.0,134.0,159.0,150.0,150.0,180.0,120.0,182.0,165.0,160.0,170.0,165.0,148.0,130.0,140.0,175.0,175.0,160.0,155.0,156.0,160.0,175.0,155.0,150.0,165.0,156.0,167.0,165.0,190.0,192.0,173.0,145.0,170.0,169.0,175.0,150.0,178.0,157.0,160.0,159.0,182.0,150.0,154.0,165.0,150.0,149.0,150.0,160.0,173.0,150.0,163.0,168.0,162.0,170.0,145.0,160.0,180.0,149.0,173.0,149.0,170.0,155.0,153.0,170.0,173.0,170.0,120.0,160.0,140.0,165.0,161.0,146.0,155.0,120.0,160.0,152.0,168.0,152.0,156.0,151.0,165.0,160.0,153.0,175.0,161.0,160.0,153.0,160.0,170.0,152.0,164.0,167.0,167.0,155.0,153.0,170.0,172.0,139.0,153.0,155.0],\"type\":\"box\",\"xaxis\":\"x\",\"yaxis\":\"y\"},{\"name\":\"Weight (kg)\",\"y\":[58.0,40.0,78.0,20.0,54.0,33.0,50.0,43.0,85.0,84.0,50.0,51.0,64.0,52.0,83.0,68.0,52.0,60.0,60.0,42.0,50.0,51.0,42.0,90.0,85.0,89.0,73.0,69.0,39.0,40.0,52.0,63.0,60.0,55.0,70.0,50.0,48.0,45.0,72.0,50.0,43.0,35.0,95.0,70.0,65.0,45.0,80.0,83.0,70.0,55.0,56.0,53.0,65.0,67.0,43.0,47.0,52.0,62.0,60.0,50.0,61.0,42.0,90.0,89.0,55.0,75.0,42.0,93.0,58.0,73.0,78.0,60.0,35.0,70.0,60.0,74.0,65.0,91.0,76.0,60.0,52.0,58.0,64.0,67.0,60.0,75.0,45.0,75.0,54.0,56.0,50.0,75.0,70.0,65.0,70.0,80.0,42.0,70.0,83.0,67.0,48.0,50.0,65.0,65.0,63.0,84.0,60.0,80.0,85.0,53.0,50.0,49.0,52.0,72.0,60.0,65.0,70.0,65.0,80.0,50.0,57.0,85.0,60.0,75.0,45.0,62.0,60.0,72.0,55.0,65.0,65.0,57.0,86.0,65.0,72.0,48.0,40.0,51.0,50.0,40.0,85.0,55.0,58.0,67.0,38.0,80.0,45.0,78.0,35.0,45.0,70.0,76.0,70.0,43.0,50.0,50.0,68.9,50.0,55.0,75.0,50.0,53.0,64.0,106.0,85.0,58.0,60.0,90.0,65.0,59.0,42.0,60.0,40.0,40.0,80.0,57.0,54.0,62.0,75.0,40.0,50.0,48.0,50.0,92.0,48.0,80.0,48.0,85.0,80.0,50.0,52.0,65.0,35.0,60.0,40.0,55.0,39.0,45.0,65.0,75.0,60.0,74.0,68.0,86.0,60.0,55.0,39.0,70.0,80.0,70.0,32.0,75.0,64.0,45.0,55.0,62.0,60.0,58.0,75.0,54.0,60.0,45.0,50.0,65.0,65.0,43.0,65.0,55.0,68.0,60.0,76.0,52.0,33.0,58.0,39.0],\"type\":\"box\",\"xaxis\":\"x2\",\"yaxis\":\"y2\"}],                        {\"template\":{\"data\":{\"histogram2dcontour\":[{\"type\":\"histogram2dcontour\",\"colorbar\":{\"outlinewidth\":0,\"ticks\":\"\"},\"colorscale\":[[0.0,\"#0d0887\"],[0.1111111111111111,\"#46039f\"],[0.2222222222222222,\"#7201a8\"],[0.3333333333333333,\"#9c179e\"],[0.4444444444444444,\"#bd3786\"],[0.5555555555555556,\"#d8576b\"],[0.6666666666666666,\"#ed7953\"],[0.7777777777777778,\"#fb9f3a\"],[0.8888888888888888,\"#fdca26\"],[1.0,\"#f0f921\"]]}],\"choropleth\":[{\"type\":\"choropleth\",\"colorbar\":{\"outlinewidth\":0,\"ticks\":\"\"}}],\"histogram2d\":[{\"type\":\"histogram2d\",\"colorbar\":{\"outlinewidth\":0,\"ticks\":\"\"},\"colorscale\":[[0.0,\"#0d0887\"],[0.1111111111111111,\"#46039f\"],[0.2222222222222222,\"#7201a8\"],[0.3333333333333333,\"#9c179e\"],[0.4444444444444444,\"#bd3786\"],[0.5555555555555556,\"#d8576b\"],[0.6666666666666666,\"#ed7953\"],[0.7777777777777778,\"#fb9f3a\"],[0.8888888888888888,\"#fdca26\"],[1.0,\"#f0f921\"]]}],\"heatmap\":[{\"type\":\"heatmap\",\"colorbar\":{\"outlinewidth\":0,\"ticks\":\"\"},\"colorscale\":[[0.0,\"#0d0887\"],[0.1111111111111111,\"#46039f\"],[0.2222222222222222,\"#7201a8\"],[0.3333333333333333,\"#9c179e\"],[0.4444444444444444,\"#bd3786\"],[0.5555555555555556,\"#d8576b\"],[0.6666666666666666,\"#ed7953\"],[0.7777777777777778,\"#fb9f3a\"],[0.8888888888888888,\"#fdca26\"],[1.0,\"#f0f921\"]]}],\"heatmapgl\":[{\"type\":\"heatmapgl\",\"colorbar\":{\"outlinewidth\":0,\"ticks\":\"\"},\"colorscale\":[[0.0,\"#0d0887\"],[0.1111111111111111,\"#46039f\"],[0.2222222222222222,\"#7201a8\"],[0.3333333333333333,\"#9c179e\"],[0.4444444444444444,\"#bd3786\"],[0.5555555555555556,\"#d8576b\"],[0.6666666666666666,\"#ed7953\"],[0.7777777777777778,\"#fb9f3a\"],[0.8888888888888888,\"#fdca26\"],[1.0,\"#f0f921\"]]}],\"contourcarpet\":[{\"type\":\"contourcarpet\",\"colorbar\":{\"outlinewidth\":0,\"ticks\":\"\"}}],\"contour\":[{\"type\":\"contour\",\"colorbar\":{\"outlinewidth\":0,\"ticks\":\"\"},\"colorscale\":[[0.0,\"#0d0887\"],[0.1111111111111111,\"#46039f\"],[0.2222222222222222,\"#7201a8\"],[0.3333333333333333,\"#9c179e\"],[0.4444444444444444,\"#bd3786\"],[0.5555555555555556,\"#d8576b\"],[0.6666666666666666,\"#ed7953\"],[0.7777777777777778,\"#fb9f3a\"],[0.8888888888888888,\"#fdca26\"],[1.0,\"#f0f921\"]]}],\"surface\":[{\"type\":\"surface\",\"colorbar\":{\"outlinewidth\":0,\"ticks\":\"\"},\"colorscale\":[[0.0,\"#0d0887\"],[0.1111111111111111,\"#46039f\"],[0.2222222222222222,\"#7201a8\"],[0.3333333333333333,\"#9c179e\"],[0.4444444444444444,\"#bd3786\"],[0.5555555555555556,\"#d8576b\"],[0.6666666666666666,\"#ed7953\"],[0.7777777777777778,\"#fb9f3a\"],[0.8888888888888888,\"#fdca26\"],[1.0,\"#f0f921\"]]}],\"mesh3d\":[{\"type\":\"mesh3d\",\"colorbar\":{\"outlinewidth\":0,\"ticks\":\"\"}}],\"scatter\":[{\"fillpattern\":{\"fillmode\":\"overlay\",\"size\":10,\"solidity\":0.2},\"type\":\"scatter\"}],\"parcoords\":[{\"type\":\"parcoords\",\"line\":{\"colorbar\":{\"outlinewidth\":0,\"ticks\":\"\"}}}],\"scatterpolargl\":[{\"type\":\"scatterpolargl\",\"marker\":{\"colorbar\":{\"outlinewidth\":0,\"ticks\":\"\"}}}],\"bar\":[{\"error_x\":{\"color\":\"#2a3f5f\"},\"error_y\":{\"color\":\"#2a3f5f\"},\"marker\":{\"line\":{\"color\":\"#E5ECF6\",\"width\":0.5},\"pattern\":{\"fillmode\":\"overlay\",\"size\":10,\"solidity\":0.2}},\"type\":\"bar\"}],\"scattergeo\":[{\"type\":\"scattergeo\",\"marker\":{\"colorbar\":{\"outlinewidth\":0,\"ticks\":\"\"}}}],\"scatterpolar\":[{\"type\":\"scatterpolar\",\"marker\":{\"colorbar\":{\"outlinewidth\":0,\"ticks\":\"\"}}}],\"histogram\":[{\"marker\":{\"pattern\":{\"fillmode\":\"overlay\",\"size\":10,\"solidity\":0.2}},\"type\":\"histogram\"}],\"scattergl\":[{\"type\":\"scattergl\",\"marker\":{\"colorbar\":{\"outlinewidth\":0,\"ticks\":\"\"}}}],\"scatter3d\":[{\"type\":\"scatter3d\",\"line\":{\"colorbar\":{\"outlinewidth\":0,\"ticks\":\"\"}},\"marker\":{\"colorbar\":{\"outlinewidth\":0,\"ticks\":\"\"}}}],\"scattermapbox\":[{\"type\":\"scattermapbox\",\"marker\":{\"colorbar\":{\"outlinewidth\":0,\"ticks\":\"\"}}}],\"scatterternary\":[{\"type\":\"scatterternary\",\"marker\":{\"colorbar\":{\"outlinewidth\":0,\"ticks\":\"\"}}}],\"scattercarpet\":[{\"type\":\"scattercarpet\",\"marker\":{\"colorbar\":{\"outlinewidth\":0,\"ticks\":\"\"}}}],\"carpet\":[{\"aaxis\":{\"endlinecolor\":\"#2a3f5f\",\"gridcolor\":\"white\",\"linecolor\":\"white\",\"minorgridcolor\":\"white\",\"startlinecolor\":\"#2a3f5f\"},\"baxis\":{\"endlinecolor\":\"#2a3f5f\",\"gridcolor\":\"white\",\"linecolor\":\"white\",\"minorgridcolor\":\"white\",\"startlinecolor\":\"#2a3f5f\"},\"type\":\"carpet\"}],\"table\":[{\"cells\":{\"fill\":{\"color\":\"#EBF0F8\"},\"line\":{\"color\":\"white\"}},\"header\":{\"fill\":{\"color\":\"#C8D4E3\"},\"line\":{\"color\":\"white\"}},\"type\":\"table\"}],\"barpolar\":[{\"marker\":{\"line\":{\"color\":\"#E5ECF6\",\"width\":0.5},\"pattern\":{\"fillmode\":\"overlay\",\"size\":10,\"solidity\":0.2}},\"type\":\"barpolar\"}],\"pie\":[{\"automargin\":true,\"type\":\"pie\"}]},\"layout\":{\"autotypenumbers\":\"strict\",\"colorway\":[\"#636efa\",\"#EF553B\",\"#00cc96\",\"#ab63fa\",\"#FFA15A\",\"#19d3f3\",\"#FF6692\",\"#B6E880\",\"#FF97FF\",\"#FECB52\"],\"font\":{\"color\":\"#2a3f5f\"},\"hovermode\":\"closest\",\"hoverlabel\":{\"align\":\"left\"},\"paper_bgcolor\":\"white\",\"plot_bgcolor\":\"#E5ECF6\",\"polar\":{\"bgcolor\":\"#E5ECF6\",\"angularaxis\":{\"gridcolor\":\"white\",\"linecolor\":\"white\",\"ticks\":\"\"},\"radialaxis\":{\"gridcolor\":\"white\",\"linecolor\":\"white\",\"ticks\":\"\"}},\"ternary\":{\"bgcolor\":\"#E5ECF6\",\"aaxis\":{\"gridcolor\":\"white\",\"linecolor\":\"white\",\"ticks\":\"\"},\"baxis\":{\"gridcolor\":\"white\",\"linecolor\":\"white\",\"ticks\":\"\"},\"caxis\":{\"gridcolor\":\"white\",\"linecolor\":\"white\",\"ticks\":\"\"}},\"coloraxis\":{\"colorbar\":{\"outlinewidth\":0,\"ticks\":\"\"}},\"colorscale\":{\"sequential\":[[0.0,\"#0d0887\"],[0.1111111111111111,\"#46039f\"],[0.2222222222222222,\"#7201a8\"],[0.3333333333333333,\"#9c179e\"],[0.4444444444444444,\"#bd3786\"],[0.5555555555555556,\"#d8576b\"],[0.6666666666666666,\"#ed7953\"],[0.7777777777777778,\"#fb9f3a\"],[0.8888888888888888,\"#fdca26\"],[1.0,\"#f0f921\"]],\"sequentialminus\":[[0.0,\"#0d0887\"],[0.1111111111111111,\"#46039f\"],[0.2222222222222222,\"#7201a8\"],[0.3333333333333333,\"#9c179e\"],[0.4444444444444444,\"#bd3786\"],[0.5555555555555556,\"#d8576b\"],[0.6666666666666666,\"#ed7953\"],[0.7777777777777778,\"#fb9f3a\"],[0.8888888888888888,\"#fdca26\"],[1.0,\"#f0f921\"]],\"diverging\":[[0,\"#8e0152\"],[0.1,\"#c51b7d\"],[0.2,\"#de77ae\"],[0.3,\"#f1b6da\"],[0.4,\"#fde0ef\"],[0.5,\"#f7f7f7\"],[0.6,\"#e6f5d0\"],[0.7,\"#b8e186\"],[0.8,\"#7fbc41\"],[0.9,\"#4d9221\"],[1,\"#276419\"]]},\"xaxis\":{\"gridcolor\":\"white\",\"linecolor\":\"white\",\"ticks\":\"\",\"title\":{\"standoff\":15},\"zerolinecolor\":\"white\",\"automargin\":true,\"zerolinewidth\":2},\"yaxis\":{\"gridcolor\":\"white\",\"linecolor\":\"white\",\"ticks\":\"\",\"title\":{\"standoff\":15},\"zerolinecolor\":\"white\",\"automargin\":true,\"zerolinewidth\":2},\"scene\":{\"xaxis\":{\"backgroundcolor\":\"#E5ECF6\",\"gridcolor\":\"white\",\"linecolor\":\"white\",\"showbackground\":true,\"ticks\":\"\",\"zerolinecolor\":\"white\",\"gridwidth\":2},\"yaxis\":{\"backgroundcolor\":\"#E5ECF6\",\"gridcolor\":\"white\",\"linecolor\":\"white\",\"showbackground\":true,\"ticks\":\"\",\"zerolinecolor\":\"white\",\"gridwidth\":2},\"zaxis\":{\"backgroundcolor\":\"#E5ECF6\",\"gridcolor\":\"white\",\"linecolor\":\"white\",\"showbackground\":true,\"ticks\":\"\",\"zerolinecolor\":\"white\",\"gridwidth\":2}},\"shapedefaults\":{\"line\":{\"color\":\"#2a3f5f\"}},\"annotationdefaults\":{\"arrowcolor\":\"#2a3f5f\",\"arrowhead\":0,\"arrowwidth\":1},\"geo\":{\"bgcolor\":\"white\",\"landcolor\":\"#E5ECF6\",\"subunitcolor\":\"white\",\"showland\":true,\"showlakes\":true,\"lakecolor\":\"white\"},\"title\":{\"x\":0.05},\"mapbox\":{\"style\":\"light\"}}},\"xaxis\":{\"anchor\":\"y\",\"domain\":[0.0,0.45]},\"yaxis\":{\"anchor\":\"x\",\"domain\":[0.0,1.0]},\"xaxis2\":{\"anchor\":\"y2\",\"domain\":[0.55,1.0]},\"yaxis2\":{\"anchor\":\"x2\",\"domain\":[0.0,1.0]},\"width\":1280,\"height\":720,\"title\":{\"text\":\"Height and Weight Box Plots\"}},                        {\"responsive\": true}                    ).then(function(){\n",
       "                            \n",
       "var gd = document.getElementById('f3005aa6-9300-41d6-a4b9-0199df4bdca9');\n",
       "var x = new MutationObserver(function (mutations, observer) {{\n",
       "        var display = window.getComputedStyle(gd).display;\n",
       "        if (!display || display === 'none') {{\n",
       "            console.log([gd, 'removed!']);\n",
       "            Plotly.purge(gd);\n",
       "            observer.disconnect();\n",
       "        }}\n",
       "}});\n",
       "\n",
       "// Listen for the removal of the full notebook cells\n",
       "var notebookContainer = gd.closest('#notebook-container');\n",
       "if (notebookContainer) {{\n",
       "    x.observe(notebookContainer, {childList: true});\n",
       "}}\n",
       "\n",
       "// Listen for the clearing of the current output cell\n",
       "var outputEl = gd.closest('.output');\n",
       "if (outputEl) {{\n",
       "    x.observe(outputEl, {childList: true});\n",
       "}}\n",
       "\n",
       "                        })                };                });            </script>        </div>"
      ]
     },
     "metadata": {},
     "output_type": "display_data"
    }
   ],
   "source": [
    "fig = make_subplots(rows=1, cols=2)\n",
    "fig.add_trace(go.Box(y=df.height, name=\"Height (cm)\"), row = 1, col = 1)\n",
    "fig.add_trace(go.Box(y=df.weight, name=\"Weight (kg)\"), row = 1, col = 2)\n",
    "\n",
    "fig.update_layout(width=1280, height=720, title='Height and Weight Box Plots')\n",
    "fig.show()"
   ]
  },
  {
   "cell_type": "markdown",
   "id": "0f9ad410",
   "metadata": {
    "papermill": {
     "duration": 0.008243,
     "end_time": "2024-04-23T22:32:37.064735",
     "exception": false,
     "start_time": "2024-04-23T22:32:37.056492",
     "status": "completed"
    },
    "tags": []
   },
   "source": [
    "Person 4.5cm tall may have had an error inputting height from 145cm or 4.5 feet instead of 4.5cm of height, so that outlier alone should not be considered."
   ]
  },
  {
   "cell_type": "code",
   "execution_count": 8,
   "id": "879c2a16",
   "metadata": {
    "execution": {
     "iopub.execute_input": "2024-04-23T22:32:37.086683Z",
     "iopub.status.busy": "2024-04-23T22:32:37.086215Z",
     "iopub.status.idle": "2024-04-23T22:32:37.116731Z",
     "shell.execute_reply": "2024-04-23T22:32:37.115273Z"
    },
    "papermill": {
     "duration": 0.044652,
     "end_time": "2024-04-23T22:32:37.120665",
     "exception": false,
     "start_time": "2024-04-23T22:32:37.076013",
     "status": "completed"
    },
    "tags": []
   },
   "outputs": [
    {
     "data": {
      "text/html": [
       "<div>\n",
       "<style scoped>\n",
       "    .dataframe tbody tr th:only-of-type {\n",
       "        vertical-align: middle;\n",
       "    }\n",
       "\n",
       "    .dataframe tbody tr th {\n",
       "        vertical-align: top;\n",
       "    }\n",
       "\n",
       "    .dataframe thead th {\n",
       "        text-align: right;\n",
       "    }\n",
       "</style>\n",
       "<table border=\"1\" class=\"dataframe\">\n",
       "  <thead>\n",
       "    <tr style=\"text-align: right;\">\n",
       "      <th></th>\n",
       "      <th>certification_course</th>\n",
       "      <th>gender</th>\n",
       "      <th>department</th>\n",
       "      <th>height</th>\n",
       "      <th>weight</th>\n",
       "      <th>10th_mark</th>\n",
       "      <th>12th_mark</th>\n",
       "      <th>college_mark</th>\n",
       "      <th>hobbies</th>\n",
       "      <th>daily_studing_time</th>\n",
       "      <th>prefer_to_study_in</th>\n",
       "      <th>salary_expectation</th>\n",
       "      <th>do_you_like_your_degree</th>\n",
       "      <th>willingness_to_pursue_a_career_based_on_their_degree</th>\n",
       "      <th>social_medai_&amp;_video</th>\n",
       "      <th>travelling_time</th>\n",
       "      <th>stress_level_</th>\n",
       "      <th>financial_status</th>\n",
       "      <th>part_time_job</th>\n",
       "    </tr>\n",
       "  </thead>\n",
       "  <tbody>\n",
       "    <tr>\n",
       "      <th>96</th>\n",
       "      <td>Yes</td>\n",
       "      <td>Female</td>\n",
       "      <td>BCA</td>\n",
       "      <td>4.5</td>\n",
       "      <td>42.0</td>\n",
       "      <td>85.0</td>\n",
       "      <td>90.0</td>\n",
       "      <td>85.0</td>\n",
       "      <td>Cinema</td>\n",
       "      <td>30 - 60 minute</td>\n",
       "      <td>Anytime</td>\n",
       "      <td>20000</td>\n",
       "      <td>Yes</td>\n",
       "      <td>100%</td>\n",
       "      <td>1 - 1.30 hour</td>\n",
       "      <td>30 - 60 minutes</td>\n",
       "      <td>Good</td>\n",
       "      <td>Awful</td>\n",
       "      <td>No</td>\n",
       "    </tr>\n",
       "  </tbody>\n",
       "</table>\n",
       "</div>"
      ],
      "text/plain": [
       "   certification_course  gender department  height  weight  10th_mark  \\\n",
       "96                  Yes  Female        BCA     4.5    42.0       85.0   \n",
       "\n",
       "    12th_mark  college_mark hobbies daily_studing_time prefer_to_study_in  \\\n",
       "96       90.0          85.0  Cinema     30 - 60 minute            Anytime   \n",
       "\n",
       "    salary_expectation do_you_like_your_degree  \\\n",
       "96               20000                     Yes   \n",
       "\n",
       "   willingness_to_pursue_a_career_based_on_their_degree social_medai_&_video  \\\n",
       "96                                               100%          1 - 1.30 hour   \n",
       "\n",
       "    travelling_time stress_level_ financial_status part_time_job  \n",
       "96  30 - 60 minutes          Good            Awful            No  "
      ]
     },
     "execution_count": 8,
     "metadata": {},
     "output_type": "execute_result"
    }
   ],
   "source": [
    "df[df.height == 4.5]"
   ]
  },
  {
   "cell_type": "markdown",
   "id": "49d4075d",
   "metadata": {
    "papermill": {
     "duration": 0.008643,
     "end_time": "2024-04-23T22:32:37.138128",
     "exception": false,
     "start_time": "2024-04-23T22:32:37.129485",
     "status": "completed"
    },
    "tags": []
   },
   "source": [
    "## Studies Data"
   ]
  },
  {
   "cell_type": "code",
   "execution_count": 9,
   "id": "54e0b498",
   "metadata": {
    "execution": {
     "iopub.execute_input": "2024-04-23T22:32:37.158310Z",
     "iopub.status.busy": "2024-04-23T22:32:37.157802Z",
     "iopub.status.idle": "2024-04-23T22:32:37.198882Z",
     "shell.execute_reply": "2024-04-23T22:32:37.197554Z"
    },
    "papermill": {
     "duration": 0.054954,
     "end_time": "2024-04-23T22:32:37.201836",
     "exception": false,
     "start_time": "2024-04-23T22:32:37.146882",
     "status": "completed"
    },
    "tags": []
   },
   "outputs": [
    {
     "data": {
      "text/html": [
       "<div>                            <div id=\"fc7edb3a-22d6-4f06-90bf-4837c818b27e\" class=\"plotly-graph-div\" style=\"height:525px; width:100%;\"></div>            <script type=\"text/javascript\">                require([\"plotly\"], function(Plotly) {                    window.PLOTLYENV=window.PLOTLYENV || {};                                    if (document.getElementById(\"fc7edb3a-22d6-4f06-90bf-4837c818b27e\")) {                    Plotly.newPlot(                        \"fc7edb3a-22d6-4f06-90bf-4837c818b27e\",                        [{\"name\":\"Daily Study Time\",\"x\":[\"0 - 30 minute\",\"30 - 60 minute\",\"1 - 2 Hour\",\"1 - 2 Hour\",\"30 - 60 minute\",\"30 - 60 minute\",\"1 - 2 Hour\",\"1 - 2 Hour\",\"0 - 30 minute\",\"0 - 30 minute\",\"1 - 2 Hour\",\"2 - 3 hour\",\"30 - 60 minute\",\"0 - 30 minute\",\"30 - 60 minute\",\"30 - 60 minute\",\"1 - 2 Hour\",\"0 - 30 minute\",\"0 - 30 minute\",\"30 - 60 minute\",\"30 - 60 minute\",\"1 - 2 Hour\",\"1 - 2 Hour\",\"1 - 2 Hour\",\"0 - 30 minute\",\"30 - 60 minute\",\"1 - 2 Hour\",\"0 - 30 minute\",\"30 - 60 minute\",\"30 - 60 minute\",\"0 - 30 minute\",\"30 - 60 minute\",\"0 - 30 minute\",\"1 - 2 Hour\",\"30 - 60 minute\",\"0 - 30 minute\",\"2 - 3 hour\",\"0 - 30 minute\",\"30 - 60 minute\",\"30 - 60 minute\",\"30 - 60 minute\",\"1 - 2 Hour\",\"0 - 30 minute\",\"3 - 4 hour\",\"0 - 30 minute\",\"1 - 2 Hour\",\"30 - 60 minute\",\"0 - 30 minute\",\"1 - 2 Hour\",\"1 - 2 Hour\",\"1 - 2 Hour\",\"1 - 2 Hour\",\"More Than 4 hour\",\"1 - 2 Hour\",\"1 - 2 Hour\",\"30 - 60 minute\",\"2 - 3 hour\",\"1 - 2 Hour\",\"1 - 2 Hour\",\"3 - 4 hour\",\"30 - 60 minute\",\"30 - 60 minute\",\"More Than 4 hour\",\"30 - 60 minute\",\"0 - 30 minute\",\"1 - 2 Hour\",\"2 - 3 hour\",\"30 - 60 minute\",\"1 - 2 Hour\",\"30 - 60 minute\",\"30 - 60 minute\",\"2 - 3 hour\",\"0 - 30 minute\",\"0 - 30 minute\",\"3 - 4 hour\",\"30 - 60 minute\",\"1 - 2 Hour\",\"1 - 2 Hour\",\"30 - 60 minute\",\"30 - 60 minute\",\"1 - 2 Hour\",\"More Than 4 hour\",\"0 - 30 minute\",\"30 - 60 minute\",\"3 - 4 hour\",\"30 - 60 minute\",\"0 - 30 minute\",\"1 - 2 Hour\",\"30 - 60 minute\",\"0 - 30 minute\",\"3 - 4 hour\",\"2 - 3 hour\",\"2 - 3 hour\",\"1 - 2 Hour\",\"3 - 4 hour\",\"30 - 60 minute\",\"30 - 60 minute\",\"2 - 3 hour\",\"0 - 30 minute\",\"0 - 30 minute\",\"0 - 30 minute\",\"2 - 3 hour\",\"1 - 2 Hour\",\"30 - 60 minute\",\"1 - 2 Hour\",\"30 - 60 minute\",\"2 - 3 hour\",\"0 - 30 minute\",\"1 - 2 Hour\",\"0 - 30 minute\",\"30 - 60 minute\",\"30 - 60 minute\",\"30 - 60 minute\",\"0 - 30 minute\",\"1 - 2 Hour\",\"30 - 60 minute\",\"0 - 30 minute\",\"30 - 60 minute\",\"1 - 2 Hour\",\"0 - 30 minute\",\"2 - 3 hour\",\"30 - 60 minute\",\"30 - 60 minute\",\"30 - 60 minute\",\"0 - 30 minute\",\"30 - 60 minute\",\"0 - 30 minute\",\"3 - 4 hour\",\"30 - 60 minute\",\"30 - 60 minute\",\"2 - 3 hour\",\"0 - 30 minute\",\"0 - 30 minute\",\"1 - 2 Hour\",\"2 - 3 hour\",\"30 - 60 minute\",\"0 - 30 minute\",\"More Than 4 hour\",\"2 - 3 hour\",\"30 - 60 minute\",\"0 - 30 minute\",\"30 - 60 minute\",\"1 - 2 Hour\",\"30 - 60 minute\",\"2 - 3 hour\",\"More Than 4 hour\",\"0 - 30 minute\",\"30 - 60 minute\",\"More Than 4 hour\",\"30 - 60 minute\",\"1 - 2 Hour\",\"2 - 3 hour\",\"30 - 60 minute\",\"1 - 2 Hour\",\"2 - 3 hour\",\"2 - 3 hour\",\"30 - 60 minute\",\"0 - 30 minute\",\"3 - 4 hour\",\"0 - 30 minute\",\"1 - 2 Hour\",\"30 - 60 minute\",\"30 - 60 minute\",\"1 - 2 Hour\",\"30 - 60 minute\",\"1 - 2 Hour\",\"3 - 4 hour\",\"30 - 60 minute\",\"3 - 4 hour\",\"1 - 2 Hour\",\"1 - 2 Hour\",\"2 - 3 hour\",\"30 - 60 minute\",\"30 - 60 minute\",\"30 - 60 minute\",\"30 - 60 minute\",\"3 - 4 hour\",\"1 - 2 Hour\",\"1 - 2 Hour\",\"1 - 2 Hour\",\"30 - 60 minute\",\"30 - 60 minute\",\"0 - 30 minute\",\"0 - 30 minute\",\"1 - 2 Hour\",\"0 - 30 minute\",\"30 - 60 minute\",\"30 - 60 minute\",\"More Than 4 hour\",\"1 - 2 Hour\",\"30 - 60 minute\",\"30 - 60 minute\",\"1 - 2 Hour\",\"1 - 2 Hour\",\"30 - 60 minute\",\"30 - 60 minute\",\"3 - 4 hour\",\"30 - 60 minute\",\"1 - 2 Hour\",\"1 - 2 Hour\",\"1 - 2 Hour\",\"1 - 2 Hour\",\"3 - 4 hour\",\"30 - 60 minute\",\"0 - 30 minute\",\"30 - 60 minute\",\"1 - 2 Hour\",\"2 - 3 hour\",\"30 - 60 minute\",\"30 - 60 minute\",\"1 - 2 Hour\",\"1 - 2 Hour\",\"1 - 2 Hour\",\"More Than 4 hour\",\"1 - 2 Hour\",\"2 - 3 hour\",\"2 - 3 hour\",\"0 - 30 minute\",\"30 - 60 minute\",\"30 - 60 minute\",\"30 - 60 minute\",\"0 - 30 minute\",\"30 - 60 minute\",\"0 - 30 minute\",\"3 - 4 hour\",\"2 - 3 hour\",\"1 - 2 Hour\",\"30 - 60 minute\",\"1 - 2 Hour\",\"1 - 2 Hour\",\"30 - 60 minute\",\"2 - 3 hour\",\"30 - 60 minute\",\"0 - 30 minute\",\"3 - 4 hour\"],\"type\":\"histogram\",\"xaxis\":\"x\",\"yaxis\":\"y\"},{\"name\":\"Prefer to Study in\",\"x\":[\"Morning\",\"Morning\",\"Anytime\",\"Anytime\",\"Morning\",\"Night\",\"Morning\",\"Morning\",\"Morning\",\"Anytime\",\"Morning\",\"Night\",\"Morning\",\"Anytime\",\"Anytime\",\"Anytime\",\"Anytime\",\"Night\",\"Anytime\",\"Anytime\",\"Anytime\",\"Morning\",\"Anytime\",\"Morning\",\"Anytime\",\"Morning\",\"Anytime\",\"Morning\",\"Night\",\"Night\",\"Morning\",\"Anytime\",\"Anytime\",\"Anytime\",\"Anytime\",\"Morning\",\"Anytime\",\"Night\",\"Morning\",\"Anytime\",\"Morning\",\"Night\",\"Anytime\",\"Anytime\",\"Anytime\",\"Morning\",\"Anytime\",\"Anytime\",\"Morning\",\"Night\",\"Morning\",\"Anytime\",\"Anytime\",\"Anytime\",\"Anytime\",\"Morning\",\"Morning\",\"Morning\",\"Anytime\",\"Anytime\",\"Morning\",\"Morning\",\"Anytime\",\"Anytime\",\"Anytime\",\"Morning\",\"Morning\",\"Night\",\"Night\",\"Night\",\"Anytime\",\"Anytime\",\"Anytime\",\"Anytime\",\"Morning\",\"Morning\",\"Anytime\",\"Night\",\"Night\",\"Anytime\",\"Night\",\"Anytime\",\"Morning\",\"Anytime\",\"Anytime\",\"Morning\",\"Anytime\",\"Anytime\",\"Night\",\"Morning\",\"Morning\",\"Night\",\"Anytime\",\"Morning\",\"Night\",\"Morning\",\"Anytime\",\"Night\",\"Anytime\",\"Anytime\",\"Night\",\"Anytime\",\"Night\",\"Anytime\",\"Anytime\",\"Anytime\",\"Anytime\",\"Anytime\",\"Anytime\",\"Morning\",\"Anytime\",\"Anytime\",\"Anytime\",\"Morning\",\"Anytime\",\"Anytime\",\"Night\",\"Anytime\",\"Anytime\",\"Anytime\",\"Night\",\"Night\",\"Morning\",\"Anytime\",\"Night\",\"Morning\",\"Anytime\",\"Anytime\",\"Anytime\",\"Anytime\",\"Morning\",\"Morning\",\"Anytime\",\"Anytime\",\"Anytime\",\"Anytime\",\"Morning\",\"Morning\",\"Anytime\",\"Anytime\",\"Morning\",\"Morning\",\"Night\",\"Morning\",\"Anytime\",\"Anytime\",\"Night\",\"Anytime\",\"Morning\",\"Night\",\"Morning\",\"Morning\",\"Morning\",\"Night\",\"Night\",\"Anytime\",\"Morning\",\"Anytime\",\"Morning\",\"Anytime\",\"Morning\",\"Morning\",\"Morning\",\"Anytime\",\"Anytime\",\"Night\",\"Anytime\",\"Anytime\",\"Anytime\",\"Anytime\",\"Anytime\",\"Morning\",\"Morning\",\"Night\",\"Morning\",\"Night\",\"Anytime\",\"Night\",\"Anytime\",\"Morning\",\"Morning\",\"Night\",\"Night\",\"Anytime\",\"Anytime\",\"Morning\",\"Morning\",\"Night\",\"Anytime\",\"Morning\",\"Night\",\"Anytime\",\"Anytime\",\"Night\",\"Morning\",\"Night\",\"Night\",\"Morning\",\"Morning\",\"Anytime\",\"Anytime\",\"Anytime\",\"Morning\",\"Morning\",\"Morning\",\"Morning\",\"Anytime\",\"Night\",\"Night\",\"Anytime\",\"Night\",\"Morning\",\"Anytime\",\"Anytime\",\"Morning\",\"Anytime\",\"Anytime\",\"Anytime\",\"Morning\",\"Morning\",\"Anytime\",\"Morning\",\"Night\",\"Anytime\",\"Morning\",\"Morning\",\"Night\",\"Anytime\",\"Anytime\",\"Anytime\",\"Morning\",\"Anytime\",\"Night\",\"Anytime\",\"Night\"],\"type\":\"histogram\",\"xaxis\":\"x2\",\"yaxis\":\"y2\"}],                        {\"template\":{\"data\":{\"histogram2dcontour\":[{\"type\":\"histogram2dcontour\",\"colorbar\":{\"outlinewidth\":0,\"ticks\":\"\"},\"colorscale\":[[0.0,\"#0d0887\"],[0.1111111111111111,\"#46039f\"],[0.2222222222222222,\"#7201a8\"],[0.3333333333333333,\"#9c179e\"],[0.4444444444444444,\"#bd3786\"],[0.5555555555555556,\"#d8576b\"],[0.6666666666666666,\"#ed7953\"],[0.7777777777777778,\"#fb9f3a\"],[0.8888888888888888,\"#fdca26\"],[1.0,\"#f0f921\"]]}],\"choropleth\":[{\"type\":\"choropleth\",\"colorbar\":{\"outlinewidth\":0,\"ticks\":\"\"}}],\"histogram2d\":[{\"type\":\"histogram2d\",\"colorbar\":{\"outlinewidth\":0,\"ticks\":\"\"},\"colorscale\":[[0.0,\"#0d0887\"],[0.1111111111111111,\"#46039f\"],[0.2222222222222222,\"#7201a8\"],[0.3333333333333333,\"#9c179e\"],[0.4444444444444444,\"#bd3786\"],[0.5555555555555556,\"#d8576b\"],[0.6666666666666666,\"#ed7953\"],[0.7777777777777778,\"#fb9f3a\"],[0.8888888888888888,\"#fdca26\"],[1.0,\"#f0f921\"]]}],\"heatmap\":[{\"type\":\"heatmap\",\"colorbar\":{\"outlinewidth\":0,\"ticks\":\"\"},\"colorscale\":[[0.0,\"#0d0887\"],[0.1111111111111111,\"#46039f\"],[0.2222222222222222,\"#7201a8\"],[0.3333333333333333,\"#9c179e\"],[0.4444444444444444,\"#bd3786\"],[0.5555555555555556,\"#d8576b\"],[0.6666666666666666,\"#ed7953\"],[0.7777777777777778,\"#fb9f3a\"],[0.8888888888888888,\"#fdca26\"],[1.0,\"#f0f921\"]]}],\"heatmapgl\":[{\"type\":\"heatmapgl\",\"colorbar\":{\"outlinewidth\":0,\"ticks\":\"\"},\"colorscale\":[[0.0,\"#0d0887\"],[0.1111111111111111,\"#46039f\"],[0.2222222222222222,\"#7201a8\"],[0.3333333333333333,\"#9c179e\"],[0.4444444444444444,\"#bd3786\"],[0.5555555555555556,\"#d8576b\"],[0.6666666666666666,\"#ed7953\"],[0.7777777777777778,\"#fb9f3a\"],[0.8888888888888888,\"#fdca26\"],[1.0,\"#f0f921\"]]}],\"contourcarpet\":[{\"type\":\"contourcarpet\",\"colorbar\":{\"outlinewidth\":0,\"ticks\":\"\"}}],\"contour\":[{\"type\":\"contour\",\"colorbar\":{\"outlinewidth\":0,\"ticks\":\"\"},\"colorscale\":[[0.0,\"#0d0887\"],[0.1111111111111111,\"#46039f\"],[0.2222222222222222,\"#7201a8\"],[0.3333333333333333,\"#9c179e\"],[0.4444444444444444,\"#bd3786\"],[0.5555555555555556,\"#d8576b\"],[0.6666666666666666,\"#ed7953\"],[0.7777777777777778,\"#fb9f3a\"],[0.8888888888888888,\"#fdca26\"],[1.0,\"#f0f921\"]]}],\"surface\":[{\"type\":\"surface\",\"colorbar\":{\"outlinewidth\":0,\"ticks\":\"\"},\"colorscale\":[[0.0,\"#0d0887\"],[0.1111111111111111,\"#46039f\"],[0.2222222222222222,\"#7201a8\"],[0.3333333333333333,\"#9c179e\"],[0.4444444444444444,\"#bd3786\"],[0.5555555555555556,\"#d8576b\"],[0.6666666666666666,\"#ed7953\"],[0.7777777777777778,\"#fb9f3a\"],[0.8888888888888888,\"#fdca26\"],[1.0,\"#f0f921\"]]}],\"mesh3d\":[{\"type\":\"mesh3d\",\"colorbar\":{\"outlinewidth\":0,\"ticks\":\"\"}}],\"scatter\":[{\"fillpattern\":{\"fillmode\":\"overlay\",\"size\":10,\"solidity\":0.2},\"type\":\"scatter\"}],\"parcoords\":[{\"type\":\"parcoords\",\"line\":{\"colorbar\":{\"outlinewidth\":0,\"ticks\":\"\"}}}],\"scatterpolargl\":[{\"type\":\"scatterpolargl\",\"marker\":{\"colorbar\":{\"outlinewidth\":0,\"ticks\":\"\"}}}],\"bar\":[{\"error_x\":{\"color\":\"#2a3f5f\"},\"error_y\":{\"color\":\"#2a3f5f\"},\"marker\":{\"line\":{\"color\":\"#E5ECF6\",\"width\":0.5},\"pattern\":{\"fillmode\":\"overlay\",\"size\":10,\"solidity\":0.2}},\"type\":\"bar\"}],\"scattergeo\":[{\"type\":\"scattergeo\",\"marker\":{\"colorbar\":{\"outlinewidth\":0,\"ticks\":\"\"}}}],\"scatterpolar\":[{\"type\":\"scatterpolar\",\"marker\":{\"colorbar\":{\"outlinewidth\":0,\"ticks\":\"\"}}}],\"histogram\":[{\"marker\":{\"pattern\":{\"fillmode\":\"overlay\",\"size\":10,\"solidity\":0.2}},\"type\":\"histogram\"}],\"scattergl\":[{\"type\":\"scattergl\",\"marker\":{\"colorbar\":{\"outlinewidth\":0,\"ticks\":\"\"}}}],\"scatter3d\":[{\"type\":\"scatter3d\",\"line\":{\"colorbar\":{\"outlinewidth\":0,\"ticks\":\"\"}},\"marker\":{\"colorbar\":{\"outlinewidth\":0,\"ticks\":\"\"}}}],\"scattermapbox\":[{\"type\":\"scattermapbox\",\"marker\":{\"colorbar\":{\"outlinewidth\":0,\"ticks\":\"\"}}}],\"scatterternary\":[{\"type\":\"scatterternary\",\"marker\":{\"colorbar\":{\"outlinewidth\":0,\"ticks\":\"\"}}}],\"scattercarpet\":[{\"type\":\"scattercarpet\",\"marker\":{\"colorbar\":{\"outlinewidth\":0,\"ticks\":\"\"}}}],\"carpet\":[{\"aaxis\":{\"endlinecolor\":\"#2a3f5f\",\"gridcolor\":\"white\",\"linecolor\":\"white\",\"minorgridcolor\":\"white\",\"startlinecolor\":\"#2a3f5f\"},\"baxis\":{\"endlinecolor\":\"#2a3f5f\",\"gridcolor\":\"white\",\"linecolor\":\"white\",\"minorgridcolor\":\"white\",\"startlinecolor\":\"#2a3f5f\"},\"type\":\"carpet\"}],\"table\":[{\"cells\":{\"fill\":{\"color\":\"#EBF0F8\"},\"line\":{\"color\":\"white\"}},\"header\":{\"fill\":{\"color\":\"#C8D4E3\"},\"line\":{\"color\":\"white\"}},\"type\":\"table\"}],\"barpolar\":[{\"marker\":{\"line\":{\"color\":\"#E5ECF6\",\"width\":0.5},\"pattern\":{\"fillmode\":\"overlay\",\"size\":10,\"solidity\":0.2}},\"type\":\"barpolar\"}],\"pie\":[{\"automargin\":true,\"type\":\"pie\"}]},\"layout\":{\"autotypenumbers\":\"strict\",\"colorway\":[\"#636efa\",\"#EF553B\",\"#00cc96\",\"#ab63fa\",\"#FFA15A\",\"#19d3f3\",\"#FF6692\",\"#B6E880\",\"#FF97FF\",\"#FECB52\"],\"font\":{\"color\":\"#2a3f5f\"},\"hovermode\":\"closest\",\"hoverlabel\":{\"align\":\"left\"},\"paper_bgcolor\":\"white\",\"plot_bgcolor\":\"#E5ECF6\",\"polar\":{\"bgcolor\":\"#E5ECF6\",\"angularaxis\":{\"gridcolor\":\"white\",\"linecolor\":\"white\",\"ticks\":\"\"},\"radialaxis\":{\"gridcolor\":\"white\",\"linecolor\":\"white\",\"ticks\":\"\"}},\"ternary\":{\"bgcolor\":\"#E5ECF6\",\"aaxis\":{\"gridcolor\":\"white\",\"linecolor\":\"white\",\"ticks\":\"\"},\"baxis\":{\"gridcolor\":\"white\",\"linecolor\":\"white\",\"ticks\":\"\"},\"caxis\":{\"gridcolor\":\"white\",\"linecolor\":\"white\",\"ticks\":\"\"}},\"coloraxis\":{\"colorbar\":{\"outlinewidth\":0,\"ticks\":\"\"}},\"colorscale\":{\"sequential\":[[0.0,\"#0d0887\"],[0.1111111111111111,\"#46039f\"],[0.2222222222222222,\"#7201a8\"],[0.3333333333333333,\"#9c179e\"],[0.4444444444444444,\"#bd3786\"],[0.5555555555555556,\"#d8576b\"],[0.6666666666666666,\"#ed7953\"],[0.7777777777777778,\"#fb9f3a\"],[0.8888888888888888,\"#fdca26\"],[1.0,\"#f0f921\"]],\"sequentialminus\":[[0.0,\"#0d0887\"],[0.1111111111111111,\"#46039f\"],[0.2222222222222222,\"#7201a8\"],[0.3333333333333333,\"#9c179e\"],[0.4444444444444444,\"#bd3786\"],[0.5555555555555556,\"#d8576b\"],[0.6666666666666666,\"#ed7953\"],[0.7777777777777778,\"#fb9f3a\"],[0.8888888888888888,\"#fdca26\"],[1.0,\"#f0f921\"]],\"diverging\":[[0,\"#8e0152\"],[0.1,\"#c51b7d\"],[0.2,\"#de77ae\"],[0.3,\"#f1b6da\"],[0.4,\"#fde0ef\"],[0.5,\"#f7f7f7\"],[0.6,\"#e6f5d0\"],[0.7,\"#b8e186\"],[0.8,\"#7fbc41\"],[0.9,\"#4d9221\"],[1,\"#276419\"]]},\"xaxis\":{\"gridcolor\":\"white\",\"linecolor\":\"white\",\"ticks\":\"\",\"title\":{\"standoff\":15},\"zerolinecolor\":\"white\",\"automargin\":true,\"zerolinewidth\":2},\"yaxis\":{\"gridcolor\":\"white\",\"linecolor\":\"white\",\"ticks\":\"\",\"title\":{\"standoff\":15},\"zerolinecolor\":\"white\",\"automargin\":true,\"zerolinewidth\":2},\"scene\":{\"xaxis\":{\"backgroundcolor\":\"#E5ECF6\",\"gridcolor\":\"white\",\"linecolor\":\"white\",\"showbackground\":true,\"ticks\":\"\",\"zerolinecolor\":\"white\",\"gridwidth\":2},\"yaxis\":{\"backgroundcolor\":\"#E5ECF6\",\"gridcolor\":\"white\",\"linecolor\":\"white\",\"showbackground\":true,\"ticks\":\"\",\"zerolinecolor\":\"white\",\"gridwidth\":2},\"zaxis\":{\"backgroundcolor\":\"#E5ECF6\",\"gridcolor\":\"white\",\"linecolor\":\"white\",\"showbackground\":true,\"ticks\":\"\",\"zerolinecolor\":\"white\",\"gridwidth\":2}},\"shapedefaults\":{\"line\":{\"color\":\"#2a3f5f\"}},\"annotationdefaults\":{\"arrowcolor\":\"#2a3f5f\",\"arrowhead\":0,\"arrowwidth\":1},\"geo\":{\"bgcolor\":\"white\",\"landcolor\":\"#E5ECF6\",\"subunitcolor\":\"white\",\"showland\":true,\"showlakes\":true,\"lakecolor\":\"white\"},\"title\":{\"x\":0.05},\"mapbox\":{\"style\":\"light\"}}},\"xaxis\":{\"anchor\":\"y\",\"domain\":[0.0,1.0]},\"yaxis\":{\"anchor\":\"x\",\"domain\":[0.575,1.0]},\"xaxis2\":{\"anchor\":\"y2\",\"domain\":[0.0,1.0]},\"yaxis2\":{\"anchor\":\"x2\",\"domain\":[0.0,0.425]},\"title\":{\"text\":\"Study Period\"}},                        {\"responsive\": true}                    ).then(function(){\n",
       "                            \n",
       "var gd = document.getElementById('fc7edb3a-22d6-4f06-90bf-4837c818b27e');\n",
       "var x = new MutationObserver(function (mutations, observer) {{\n",
       "        var display = window.getComputedStyle(gd).display;\n",
       "        if (!display || display === 'none') {{\n",
       "            console.log([gd, 'removed!']);\n",
       "            Plotly.purge(gd);\n",
       "            observer.disconnect();\n",
       "        }}\n",
       "}});\n",
       "\n",
       "// Listen for the removal of the full notebook cells\n",
       "var notebookContainer = gd.closest('#notebook-container');\n",
       "if (notebookContainer) {{\n",
       "    x.observe(notebookContainer, {childList: true});\n",
       "}}\n",
       "\n",
       "// Listen for the clearing of the current output cell\n",
       "var outputEl = gd.closest('.output');\n",
       "if (outputEl) {{\n",
       "    x.observe(outputEl, {childList: true});\n",
       "}}\n",
       "\n",
       "                        })                };                });            </script>        </div>"
      ]
     },
     "metadata": {},
     "output_type": "display_data"
    }
   ],
   "source": [
    "fig = make_subplots(rows=2, cols=1)\n",
    "fig.add_trace(go.Histogram(x=df.daily_studing_time, name=\"Daily Study Time\"), row = 1, col = 1)\n",
    "fig.add_trace(go.Histogram(x=df.prefer_to_study_in, name=\"Prefer to Study in\"), row = 2, col = 1)\n",
    "\n",
    "fig.update_layout(title=\"Study Period\")"
   ]
  },
  {
   "cell_type": "markdown",
   "id": "9d3a9b66",
   "metadata": {
    "papermill": {
     "duration": 0.008946,
     "end_time": "2024-04-23T22:32:37.220002",
     "exception": false,
     "start_time": "2024-04-23T22:32:37.211056",
     "status": "completed"
    },
    "tags": []
   },
   "source": [
    "Most of the students study from 0-2 hours a day. Morning period is prefered more than Night."
   ]
  },
  {
   "cell_type": "code",
   "execution_count": 10,
   "id": "5df82987",
   "metadata": {
    "execution": {
     "iopub.execute_input": "2024-04-23T22:32:37.241569Z",
     "iopub.status.busy": "2024-04-23T22:32:37.240247Z",
     "iopub.status.idle": "2024-04-23T22:32:37.313527Z",
     "shell.execute_reply": "2024-04-23T22:32:37.312215Z"
    },
    "papermill": {
     "duration": 0.08715,
     "end_time": "2024-04-23T22:32:37.316339",
     "exception": false,
     "start_time": "2024-04-23T22:32:37.229189",
     "status": "completed"
    },
    "tags": []
   },
   "outputs": [
    {
     "data": {
      "text/html": [
       "<div>                            <div id=\"0c580b3d-1fc2-4702-b547-f66f48068784\" class=\"plotly-graph-div\" style=\"height:525px; width:100%;\"></div>            <script type=\"text/javascript\">                require([\"plotly\"], function(Plotly) {                    window.PLOTLYENV=window.PLOTLYENV || {};                                    if (document.getElementById(\"0c580b3d-1fc2-4702-b547-f66f48068784\")) {                    Plotly.newPlot(                        \"0c580b3d-1fc2-4702-b547-f66f48068784\",                        [{\"name\":\"10th Mark\",\"x\":[79.0,70.0,71.0,70.0,40.0,90.0,70.0,61.6,88.2,60.0,75.0,60.0,59.0,50.0,89.5,54.0,83.0,62.0,60.0,60.0,65.0,65.0,78.0,75.0,75.0,60.0,90.0,73.0,89.0,94.0,60.0,78.0,69.0,85.6,65.0,70.0,85.0,90.0,79.0,77.0,54.0,70.0,72.0,70.0,70.0,64.0,75.0,60.0,66.0,73.0,62.0,85.0,70.0,98.0,86.0,87.0,82.0,80.0,93.6,90.0,88.0,87.0,70.0,89.0,70.0,95.0,80.0,90.0,84.0,50.0,91.0,84.0,87.0,89.8,89.0,75.0,93.0,92.0,88.0,88.0,7.4,75.0,80.0,81.4,78.0,60.0,75.0,90.2,80.0,86.5,88.8,90.0,85.0,76.0,80.0,91.0,85.0,80.0,85.8,80.0,75.0,95.0,95.0,90.0,79.4,90.0,77.0,80.0,90.0,84.0,86.0,94.0,69.0,85.0,88.0,85.0,69.0,85.0,85.0,70.0,72.0,80.0,60.0,84.0,72.6,91.0,90.0,78.0,91.0,82.0,80.5,75.0,75.0,90.0,85.0,84.2,91.4,86.0,85.0,80.0,78.0,75.0,80.0,90.0,80.0,75.0,50.0,71.2,80.2,85.0,90.2,61.8,80.0,79.0,64.0,86.0,71.0,80.0,50.0,65.0,90.0,85.0,75.0,82.0,84.0,91.0,92.0,75.0,90.0,81.0,70.0,70.0,93.0,76.0,60.0,83.7,76.0,70.0,91.0,80.0,60.0,60.0,60.0,54.0,46.0,76.0,70.0,56.0,67.0,75.0,65.0,86.0,70.0,60.0,60.0,50.0,45.0,67.0,79.0,60.0,50.0,80.0,96.0,76.0,55.0,89.0,95.6,60.0,81.0,84.0,80.0,75.0,90.4,85.0,93.8,78.0,75.0,85.0,88.0,90.0,85.0,83.0,85.0,82.0,97.0,80.0,93.0,55.0,75.0,60.0,72.0,72.0,90.0,85.0,45.0],\"type\":\"histogram\",\"xbins\":{\"end\":100.0,\"size\":10,\"start\":0.0},\"opacity\":0.75},{\"name\":\"12th Mark\",\"x\":[64.0,80.0,61.0,59.0,65.0,75.0,63.0,61.67,67.5,65.0,70.0,55.0,54.0,55.0,69.7,48.0,76.0,61.3,65.0,70.0,65.0,70.0,60.0,73.8,60.0,50.0,90.0,85.0,77.0,94.0,65.0,60.0,60.0,70.0,60.0,60.0,80.0,90.0,65.0,87.0,51.0,55.0,80.0,70.0,75.0,88.0,75.0,82.0,65.0,72.0,53.0,88.0,80.0,80.0,78.0,84.0,70.0,60.0,85.0,80.0,81.0,78.0,70.0,69.0,60.0,90.0,75.0,62.0,65.0,50.0,60.0,64.0,75.0,63.3,69.0,55.0,66.0,69.0,58.0,70.0,79.0,70.0,70.0,69.0,55.0,60.0,64.0,61.6,62.0,65.3,71.0,75.0,61.0,70.0,70.0,73.3,90.0,60.0,63.66,70.0,50.0,75.0,85.0,64.0,61.33,74.0,70.0,60.0,57.0,63.0,68.0,69.0,54.0,64.0,88.0,50.0,60.0,60.0,72.0,78.0,75.0,60.0,68.1,55.0,62.6,86.0,65.0,67.0,81.0,55.0,53.0,57.0,68.0,85.0,60.0,64.8,65.5,72.0,55.0,60.0,58.0,65.0,60.0,70.0,88.0,90.0,50.0,79.5,70.0,63.0,72.8,68.3,69.0,61.0,49.5,68.0,66.0,73.0,50.0,75.0,80.0,91.0,70.0,78.0,85.0,83.5,75.0,75.0,80.0,64.0,71.0,60.0,86.0,63.0,79.0,76.77,76.0,50.0,70.0,75.0,60.0,77.0,70.0,65.0,48.0,47.0,60.0,57.0,70.0,79.0,70.0,86.0,67.0,52.0,60.0,50.0,45.0,54.0,62.0,50.0,50.0,70.0,92.0,83.0,50.0,79.0,86.0,60.0,80.0,76.0,60.0,65.0,80.0,75.0,83.5,75.0,85.0,74.0,85.0,73.0,80.0,73.0,80.0,73.0,80.0,89.0,85.0,57.0,75.0,70.0,67.0,70.0,75.0,74.0,45.0],\"type\":\"histogram\",\"xbins\":{\"end\":100.0,\"size\":10,\"start\":0.0},\"opacity\":0.75}],                        {\"template\":{\"data\":{\"histogram2dcontour\":[{\"type\":\"histogram2dcontour\",\"colorbar\":{\"outlinewidth\":0,\"ticks\":\"\"},\"colorscale\":[[0.0,\"#0d0887\"],[0.1111111111111111,\"#46039f\"],[0.2222222222222222,\"#7201a8\"],[0.3333333333333333,\"#9c179e\"],[0.4444444444444444,\"#bd3786\"],[0.5555555555555556,\"#d8576b\"],[0.6666666666666666,\"#ed7953\"],[0.7777777777777778,\"#fb9f3a\"],[0.8888888888888888,\"#fdca26\"],[1.0,\"#f0f921\"]]}],\"choropleth\":[{\"type\":\"choropleth\",\"colorbar\":{\"outlinewidth\":0,\"ticks\":\"\"}}],\"histogram2d\":[{\"type\":\"histogram2d\",\"colorbar\":{\"outlinewidth\":0,\"ticks\":\"\"},\"colorscale\":[[0.0,\"#0d0887\"],[0.1111111111111111,\"#46039f\"],[0.2222222222222222,\"#7201a8\"],[0.3333333333333333,\"#9c179e\"],[0.4444444444444444,\"#bd3786\"],[0.5555555555555556,\"#d8576b\"],[0.6666666666666666,\"#ed7953\"],[0.7777777777777778,\"#fb9f3a\"],[0.8888888888888888,\"#fdca26\"],[1.0,\"#f0f921\"]]}],\"heatmap\":[{\"type\":\"heatmap\",\"colorbar\":{\"outlinewidth\":0,\"ticks\":\"\"},\"colorscale\":[[0.0,\"#0d0887\"],[0.1111111111111111,\"#46039f\"],[0.2222222222222222,\"#7201a8\"],[0.3333333333333333,\"#9c179e\"],[0.4444444444444444,\"#bd3786\"],[0.5555555555555556,\"#d8576b\"],[0.6666666666666666,\"#ed7953\"],[0.7777777777777778,\"#fb9f3a\"],[0.8888888888888888,\"#fdca26\"],[1.0,\"#f0f921\"]]}],\"heatmapgl\":[{\"type\":\"heatmapgl\",\"colorbar\":{\"outlinewidth\":0,\"ticks\":\"\"},\"colorscale\":[[0.0,\"#0d0887\"],[0.1111111111111111,\"#46039f\"],[0.2222222222222222,\"#7201a8\"],[0.3333333333333333,\"#9c179e\"],[0.4444444444444444,\"#bd3786\"],[0.5555555555555556,\"#d8576b\"],[0.6666666666666666,\"#ed7953\"],[0.7777777777777778,\"#fb9f3a\"],[0.8888888888888888,\"#fdca26\"],[1.0,\"#f0f921\"]]}],\"contourcarpet\":[{\"type\":\"contourcarpet\",\"colorbar\":{\"outlinewidth\":0,\"ticks\":\"\"}}],\"contour\":[{\"type\":\"contour\",\"colorbar\":{\"outlinewidth\":0,\"ticks\":\"\"},\"colorscale\":[[0.0,\"#0d0887\"],[0.1111111111111111,\"#46039f\"],[0.2222222222222222,\"#7201a8\"],[0.3333333333333333,\"#9c179e\"],[0.4444444444444444,\"#bd3786\"],[0.5555555555555556,\"#d8576b\"],[0.6666666666666666,\"#ed7953\"],[0.7777777777777778,\"#fb9f3a\"],[0.8888888888888888,\"#fdca26\"],[1.0,\"#f0f921\"]]}],\"surface\":[{\"type\":\"surface\",\"colorbar\":{\"outlinewidth\":0,\"ticks\":\"\"},\"colorscale\":[[0.0,\"#0d0887\"],[0.1111111111111111,\"#46039f\"],[0.2222222222222222,\"#7201a8\"],[0.3333333333333333,\"#9c179e\"],[0.4444444444444444,\"#bd3786\"],[0.5555555555555556,\"#d8576b\"],[0.6666666666666666,\"#ed7953\"],[0.7777777777777778,\"#fb9f3a\"],[0.8888888888888888,\"#fdca26\"],[1.0,\"#f0f921\"]]}],\"mesh3d\":[{\"type\":\"mesh3d\",\"colorbar\":{\"outlinewidth\":0,\"ticks\":\"\"}}],\"scatter\":[{\"fillpattern\":{\"fillmode\":\"overlay\",\"size\":10,\"solidity\":0.2},\"type\":\"scatter\"}],\"parcoords\":[{\"type\":\"parcoords\",\"line\":{\"colorbar\":{\"outlinewidth\":0,\"ticks\":\"\"}}}],\"scatterpolargl\":[{\"type\":\"scatterpolargl\",\"marker\":{\"colorbar\":{\"outlinewidth\":0,\"ticks\":\"\"}}}],\"bar\":[{\"error_x\":{\"color\":\"#2a3f5f\"},\"error_y\":{\"color\":\"#2a3f5f\"},\"marker\":{\"line\":{\"color\":\"#E5ECF6\",\"width\":0.5},\"pattern\":{\"fillmode\":\"overlay\",\"size\":10,\"solidity\":0.2}},\"type\":\"bar\"}],\"scattergeo\":[{\"type\":\"scattergeo\",\"marker\":{\"colorbar\":{\"outlinewidth\":0,\"ticks\":\"\"}}}],\"scatterpolar\":[{\"type\":\"scatterpolar\",\"marker\":{\"colorbar\":{\"outlinewidth\":0,\"ticks\":\"\"}}}],\"histogram\":[{\"marker\":{\"pattern\":{\"fillmode\":\"overlay\",\"size\":10,\"solidity\":0.2}},\"type\":\"histogram\"}],\"scattergl\":[{\"type\":\"scattergl\",\"marker\":{\"colorbar\":{\"outlinewidth\":0,\"ticks\":\"\"}}}],\"scatter3d\":[{\"type\":\"scatter3d\",\"line\":{\"colorbar\":{\"outlinewidth\":0,\"ticks\":\"\"}},\"marker\":{\"colorbar\":{\"outlinewidth\":0,\"ticks\":\"\"}}}],\"scattermapbox\":[{\"type\":\"scattermapbox\",\"marker\":{\"colorbar\":{\"outlinewidth\":0,\"ticks\":\"\"}}}],\"scatterternary\":[{\"type\":\"scatterternary\",\"marker\":{\"colorbar\":{\"outlinewidth\":0,\"ticks\":\"\"}}}],\"scattercarpet\":[{\"type\":\"scattercarpet\",\"marker\":{\"colorbar\":{\"outlinewidth\":0,\"ticks\":\"\"}}}],\"carpet\":[{\"aaxis\":{\"endlinecolor\":\"#2a3f5f\",\"gridcolor\":\"white\",\"linecolor\":\"white\",\"minorgridcolor\":\"white\",\"startlinecolor\":\"#2a3f5f\"},\"baxis\":{\"endlinecolor\":\"#2a3f5f\",\"gridcolor\":\"white\",\"linecolor\":\"white\",\"minorgridcolor\":\"white\",\"startlinecolor\":\"#2a3f5f\"},\"type\":\"carpet\"}],\"table\":[{\"cells\":{\"fill\":{\"color\":\"#EBF0F8\"},\"line\":{\"color\":\"white\"}},\"header\":{\"fill\":{\"color\":\"#C8D4E3\"},\"line\":{\"color\":\"white\"}},\"type\":\"table\"}],\"barpolar\":[{\"marker\":{\"line\":{\"color\":\"#E5ECF6\",\"width\":0.5},\"pattern\":{\"fillmode\":\"overlay\",\"size\":10,\"solidity\":0.2}},\"type\":\"barpolar\"}],\"pie\":[{\"automargin\":true,\"type\":\"pie\"}]},\"layout\":{\"autotypenumbers\":\"strict\",\"colorway\":[\"#636efa\",\"#EF553B\",\"#00cc96\",\"#ab63fa\",\"#FFA15A\",\"#19d3f3\",\"#FF6692\",\"#B6E880\",\"#FF97FF\",\"#FECB52\"],\"font\":{\"color\":\"#2a3f5f\"},\"hovermode\":\"closest\",\"hoverlabel\":{\"align\":\"left\"},\"paper_bgcolor\":\"white\",\"plot_bgcolor\":\"#E5ECF6\",\"polar\":{\"bgcolor\":\"#E5ECF6\",\"angularaxis\":{\"gridcolor\":\"white\",\"linecolor\":\"white\",\"ticks\":\"\"},\"radialaxis\":{\"gridcolor\":\"white\",\"linecolor\":\"white\",\"ticks\":\"\"}},\"ternary\":{\"bgcolor\":\"#E5ECF6\",\"aaxis\":{\"gridcolor\":\"white\",\"linecolor\":\"white\",\"ticks\":\"\"},\"baxis\":{\"gridcolor\":\"white\",\"linecolor\":\"white\",\"ticks\":\"\"},\"caxis\":{\"gridcolor\":\"white\",\"linecolor\":\"white\",\"ticks\":\"\"}},\"coloraxis\":{\"colorbar\":{\"outlinewidth\":0,\"ticks\":\"\"}},\"colorscale\":{\"sequential\":[[0.0,\"#0d0887\"],[0.1111111111111111,\"#46039f\"],[0.2222222222222222,\"#7201a8\"],[0.3333333333333333,\"#9c179e\"],[0.4444444444444444,\"#bd3786\"],[0.5555555555555556,\"#d8576b\"],[0.6666666666666666,\"#ed7953\"],[0.7777777777777778,\"#fb9f3a\"],[0.8888888888888888,\"#fdca26\"],[1.0,\"#f0f921\"]],\"sequentialminus\":[[0.0,\"#0d0887\"],[0.1111111111111111,\"#46039f\"],[0.2222222222222222,\"#7201a8\"],[0.3333333333333333,\"#9c179e\"],[0.4444444444444444,\"#bd3786\"],[0.5555555555555556,\"#d8576b\"],[0.6666666666666666,\"#ed7953\"],[0.7777777777777778,\"#fb9f3a\"],[0.8888888888888888,\"#fdca26\"],[1.0,\"#f0f921\"]],\"diverging\":[[0,\"#8e0152\"],[0.1,\"#c51b7d\"],[0.2,\"#de77ae\"],[0.3,\"#f1b6da\"],[0.4,\"#fde0ef\"],[0.5,\"#f7f7f7\"],[0.6,\"#e6f5d0\"],[0.7,\"#b8e186\"],[0.8,\"#7fbc41\"],[0.9,\"#4d9221\"],[1,\"#276419\"]]},\"xaxis\":{\"gridcolor\":\"white\",\"linecolor\":\"white\",\"ticks\":\"\",\"title\":{\"standoff\":15},\"zerolinecolor\":\"white\",\"automargin\":true,\"zerolinewidth\":2},\"yaxis\":{\"gridcolor\":\"white\",\"linecolor\":\"white\",\"ticks\":\"\",\"title\":{\"standoff\":15},\"zerolinecolor\":\"white\",\"automargin\":true,\"zerolinewidth\":2},\"scene\":{\"xaxis\":{\"backgroundcolor\":\"#E5ECF6\",\"gridcolor\":\"white\",\"linecolor\":\"white\",\"showbackground\":true,\"ticks\":\"\",\"zerolinecolor\":\"white\",\"gridwidth\":2},\"yaxis\":{\"backgroundcolor\":\"#E5ECF6\",\"gridcolor\":\"white\",\"linecolor\":\"white\",\"showbackground\":true,\"ticks\":\"\",\"zerolinecolor\":\"white\",\"gridwidth\":2},\"zaxis\":{\"backgroundcolor\":\"#E5ECF6\",\"gridcolor\":\"white\",\"linecolor\":\"white\",\"showbackground\":true,\"ticks\":\"\",\"zerolinecolor\":\"white\",\"gridwidth\":2}},\"shapedefaults\":{\"line\":{\"color\":\"#2a3f5f\"}},\"annotationdefaults\":{\"arrowcolor\":\"#2a3f5f\",\"arrowhead\":0,\"arrowwidth\":1},\"geo\":{\"bgcolor\":\"white\",\"landcolor\":\"#E5ECF6\",\"subunitcolor\":\"white\",\"showland\":true,\"showlakes\":true,\"lakecolor\":\"white\"},\"title\":{\"x\":0.05},\"mapbox\":{\"style\":\"light\"}}},\"barmode\":\"overlay\",\"title\":{\"text\":\"10th and 12th Grades Marks\"},\"xaxis\":{\"title\":{\"text\":\"Mark\"}},\"yaxis\":{\"title\":{\"text\":\"Count\"}},\"bargap\":0.1},                        {\"responsive\": true}                    ).then(function(){\n",
       "                            \n",
       "var gd = document.getElementById('0c580b3d-1fc2-4702-b547-f66f48068784');\n",
       "var x = new MutationObserver(function (mutations, observer) {{\n",
       "        var display = window.getComputedStyle(gd).display;\n",
       "        if (!display || display === 'none') {{\n",
       "            console.log([gd, 'removed!']);\n",
       "            Plotly.purge(gd);\n",
       "            observer.disconnect();\n",
       "        }}\n",
       "}});\n",
       "\n",
       "// Listen for the removal of the full notebook cells\n",
       "var notebookContainer = gd.closest('#notebook-container');\n",
       "if (notebookContainer) {{\n",
       "    x.observe(notebookContainer, {childList: true});\n",
       "}}\n",
       "\n",
       "// Listen for the clearing of the current output cell\n",
       "var outputEl = gd.closest('.output');\n",
       "if (outputEl) {{\n",
       "    x.observe(outputEl, {childList: true});\n",
       "}}\n",
       "\n",
       "                        })                };                });            </script>        </div>"
      ]
     },
     "metadata": {},
     "output_type": "display_data"
    }
   ],
   "source": [
    "fig = go.Figure()\n",
    "fig.add_trace(go.Histogram(x=df['10th_mark'], name=\"10th Mark\"))\n",
    "fig.add_trace(go.Histogram(x=df['12th_mark'], name=\"12th Mark\"))\n",
    "\n",
    "fig.update_layout(barmode='overlay', title=\"10th and 12th Grades Marks\", xaxis_title=\"Mark\", yaxis_title=\"Count\", bargap=0.1)\n",
    "\n",
    "# Reduce opacity to see both histograms and set 0-100 range to x axis\n",
    "fig.update_traces(\n",
    "    opacity=0.75,\n",
    "    xbins=dict( \n",
    "        start=0.0,\n",
    "        end=100.0,\n",
    "        size=10\n",
    "    )\n",
    ")\n",
    "fig.show()"
   ]
  },
  {
   "cell_type": "markdown",
   "id": "81708896",
   "metadata": {
    "papermill": {
     "duration": 0.008956,
     "end_time": "2024-04-23T22:32:37.334901",
     "exception": false,
     "start_time": "2024-04-23T22:32:37.325945",
     "status": "completed"
    },
    "tags": []
   },
   "source": [
    "Most Grades are higher than 60"
   ]
  },
  {
   "cell_type": "code",
   "execution_count": 11,
   "id": "ccf4c75a",
   "metadata": {
    "execution": {
     "iopub.execute_input": "2024-04-23T22:32:37.356875Z",
     "iopub.status.busy": "2024-04-23T22:32:37.356383Z",
     "iopub.status.idle": "2024-04-23T22:32:37.377135Z",
     "shell.execute_reply": "2024-04-23T22:32:37.375709Z"
    },
    "papermill": {
     "duration": 0.036549,
     "end_time": "2024-04-23T22:32:37.380768",
     "exception": false,
     "start_time": "2024-04-23T22:32:37.344219",
     "status": "completed"
    },
    "tags": []
   },
   "outputs": [
    {
     "name": "stdout",
     "output_type": "stream",
     "text": [
      "count    235.000000\n",
      "mean      76.848511\n",
      "std       13.047560\n",
      "min        7.400000\n",
      "25%       70.000000\n",
      "50%       80.000000\n",
      "75%       86.250000\n",
      "max       98.000000\n",
      "Name: 10th_mark, dtype: float64 \n",
      "\n",
      "count    235.000000\n",
      "mean      68.775872\n",
      "std       11.018192\n",
      "min       45.000000\n",
      "25%       60.000000\n",
      "50%       69.000000\n",
      "75%       76.000000\n",
      "max       94.000000\n",
      "Name: 12th_mark, dtype: float64\n"
     ]
    }
   ],
   "source": [
    "tenth_mark = df['10th_mark'].describe()\n",
    "twelveth_mark = df['12th_mark'].describe()\n",
    "print(tenth_mark, '\\n')\n",
    "print(twelveth_mark)"
   ]
  },
  {
   "cell_type": "markdown",
   "id": "be6a7722",
   "metadata": {
    "papermill": {
     "duration": 0.010656,
     "end_time": "2024-04-23T22:32:37.401748",
     "exception": false,
     "start_time": "2024-04-23T22:32:37.391092",
     "status": "completed"
    },
    "tags": []
   },
   "source": [
    "The grades are lower in 12th grade than in 10th grade, as shown by the Histograms and the Mean of the Grades (76.85 and 68.78 respectively)."
   ]
  },
  {
   "cell_type": "code",
   "execution_count": 12,
   "id": "54030263",
   "metadata": {
    "execution": {
     "iopub.execute_input": "2024-04-23T22:32:37.424382Z",
     "iopub.status.busy": "2024-04-23T22:32:37.423666Z",
     "iopub.status.idle": "2024-04-23T22:32:37.448013Z",
     "shell.execute_reply": "2024-04-23T22:32:37.446678Z"
    },
    "papermill": {
     "duration": 0.039101,
     "end_time": "2024-04-23T22:32:37.450837",
     "exception": false,
     "start_time": "2024-04-23T22:32:37.411736",
     "status": "completed"
    },
    "tags": []
   },
   "outputs": [
    {
     "data": {
      "text/html": [
       "<div>\n",
       "<style scoped>\n",
       "    .dataframe tbody tr th:only-of-type {\n",
       "        vertical-align: middle;\n",
       "    }\n",
       "\n",
       "    .dataframe tbody tr th {\n",
       "        vertical-align: top;\n",
       "    }\n",
       "\n",
       "    .dataframe thead th {\n",
       "        text-align: right;\n",
       "    }\n",
       "</style>\n",
       "<table border=\"1\" class=\"dataframe\">\n",
       "  <thead>\n",
       "    <tr style=\"text-align: right;\">\n",
       "      <th></th>\n",
       "      <th>certification_course</th>\n",
       "      <th>gender</th>\n",
       "      <th>department</th>\n",
       "      <th>height</th>\n",
       "      <th>weight</th>\n",
       "      <th>10th_mark</th>\n",
       "      <th>12th_mark</th>\n",
       "      <th>college_mark</th>\n",
       "      <th>hobbies</th>\n",
       "      <th>daily_studing_time</th>\n",
       "      <th>prefer_to_study_in</th>\n",
       "      <th>salary_expectation</th>\n",
       "      <th>do_you_like_your_degree</th>\n",
       "      <th>willingness_to_pursue_a_career_based_on_their_degree</th>\n",
       "      <th>social_medai_&amp;_video</th>\n",
       "      <th>travelling_time</th>\n",
       "      <th>stress_level_</th>\n",
       "      <th>financial_status</th>\n",
       "      <th>part_time_job</th>\n",
       "    </tr>\n",
       "  </thead>\n",
       "  <tbody>\n",
       "    <tr>\n",
       "      <th>0</th>\n",
       "      <td>No</td>\n",
       "      <td>Male</td>\n",
       "      <td>BCA</td>\n",
       "      <td>100.0</td>\n",
       "      <td>58.0</td>\n",
       "      <td>79.0</td>\n",
       "      <td>64.0</td>\n",
       "      <td>80.0</td>\n",
       "      <td>Video Games</td>\n",
       "      <td>0 - 30 minute</td>\n",
       "      <td>Morning</td>\n",
       "      <td>40000</td>\n",
       "      <td>No</td>\n",
       "      <td>50%</td>\n",
       "      <td>1.30 - 2 hour</td>\n",
       "      <td>30 - 60 minutes</td>\n",
       "      <td>Bad</td>\n",
       "      <td>Bad</td>\n",
       "      <td>No</td>\n",
       "    </tr>\n",
       "    <tr>\n",
       "      <th>1</th>\n",
       "      <td>No</td>\n",
       "      <td>Female</td>\n",
       "      <td>BCA</td>\n",
       "      <td>90.0</td>\n",
       "      <td>40.0</td>\n",
       "      <td>70.0</td>\n",
       "      <td>80.0</td>\n",
       "      <td>70.0</td>\n",
       "      <td>Cinema</td>\n",
       "      <td>30 - 60 minute</td>\n",
       "      <td>Morning</td>\n",
       "      <td>15000</td>\n",
       "      <td>Yes</td>\n",
       "      <td>75%</td>\n",
       "      <td>1 - 1.30 hour</td>\n",
       "      <td>0 - 30 minutes</td>\n",
       "      <td>Bad</td>\n",
       "      <td>Bad</td>\n",
       "      <td>No</td>\n",
       "    </tr>\n",
       "    <tr>\n",
       "      <th>2</th>\n",
       "      <td>Yes</td>\n",
       "      <td>Male</td>\n",
       "      <td>BCA</td>\n",
       "      <td>159.0</td>\n",
       "      <td>78.0</td>\n",
       "      <td>71.0</td>\n",
       "      <td>61.0</td>\n",
       "      <td>55.0</td>\n",
       "      <td>Cinema</td>\n",
       "      <td>1 - 2 Hour</td>\n",
       "      <td>Anytime</td>\n",
       "      <td>13000</td>\n",
       "      <td>Yes</td>\n",
       "      <td>50%</td>\n",
       "      <td>More than 2 hour</td>\n",
       "      <td>30 - 60 minutes</td>\n",
       "      <td>Awful</td>\n",
       "      <td>Bad</td>\n",
       "      <td>No</td>\n",
       "    </tr>\n",
       "    <tr>\n",
       "      <th>3</th>\n",
       "      <td>Yes</td>\n",
       "      <td>Female</td>\n",
       "      <td>BCA</td>\n",
       "      <td>147.0</td>\n",
       "      <td>20.0</td>\n",
       "      <td>70.0</td>\n",
       "      <td>59.0</td>\n",
       "      <td>58.0</td>\n",
       "      <td>Reading books</td>\n",
       "      <td>1 - 2 Hour</td>\n",
       "      <td>Anytime</td>\n",
       "      <td>1500000</td>\n",
       "      <td>No</td>\n",
       "      <td>50%</td>\n",
       "      <td>1.30 - 2 hour</td>\n",
       "      <td>0 - 30 minutes</td>\n",
       "      <td>Bad</td>\n",
       "      <td>good</td>\n",
       "      <td>No</td>\n",
       "    </tr>\n",
       "    <tr>\n",
       "      <th>4</th>\n",
       "      <td>No</td>\n",
       "      <td>Male</td>\n",
       "      <td>BCA</td>\n",
       "      <td>170.0</td>\n",
       "      <td>54.0</td>\n",
       "      <td>40.0</td>\n",
       "      <td>65.0</td>\n",
       "      <td>30.0</td>\n",
       "      <td>Video Games</td>\n",
       "      <td>30 - 60 minute</td>\n",
       "      <td>Morning</td>\n",
       "      <td>50000</td>\n",
       "      <td>Yes</td>\n",
       "      <td>25%</td>\n",
       "      <td>1.30 - 2 hour</td>\n",
       "      <td>30 - 60 minutes</td>\n",
       "      <td>Good</td>\n",
       "      <td>good</td>\n",
       "      <td>No</td>\n",
       "    </tr>\n",
       "  </tbody>\n",
       "</table>\n",
       "</div>"
      ],
      "text/plain": [
       "  certification_course  gender department  height  weight  10th_mark  \\\n",
       "0                   No    Male        BCA   100.0    58.0       79.0   \n",
       "1                   No  Female        BCA    90.0    40.0       70.0   \n",
       "2                  Yes    Male        BCA   159.0    78.0       71.0   \n",
       "3                  Yes  Female        BCA   147.0    20.0       70.0   \n",
       "4                   No    Male        BCA   170.0    54.0       40.0   \n",
       "\n",
       "   12th_mark  college_mark        hobbies daily_studing_time  \\\n",
       "0       64.0          80.0    Video Games      0 - 30 minute   \n",
       "1       80.0          70.0         Cinema     30 - 60 minute   \n",
       "2       61.0          55.0         Cinema         1 - 2 Hour   \n",
       "3       59.0          58.0  Reading books         1 - 2 Hour   \n",
       "4       65.0          30.0    Video Games     30 - 60 minute   \n",
       "\n",
       "  prefer_to_study_in  salary_expectation do_you_like_your_degree  \\\n",
       "0            Morning               40000                      No   \n",
       "1            Morning               15000                     Yes   \n",
       "2            Anytime               13000                     Yes   \n",
       "3            Anytime             1500000                      No   \n",
       "4            Morning               50000                     Yes   \n",
       "\n",
       "  willingness_to_pursue_a_career_based_on_their_degree social_medai_&_video  \\\n",
       "0                                                50%          1.30 - 2 hour   \n",
       "1                                                75%          1 - 1.30 hour   \n",
       "2                                                50%       More than 2 hour   \n",
       "3                                                50%          1.30 - 2 hour   \n",
       "4                                                25%          1.30 - 2 hour   \n",
       "\n",
       "   travelling_time stress_level_ financial_status part_time_job  \n",
       "0  30 - 60 minutes           Bad              Bad            No  \n",
       "1   0 - 30 minutes           Bad              Bad            No  \n",
       "2  30 - 60 minutes         Awful              Bad            No  \n",
       "3   0 - 30 minutes           Bad             good            No  \n",
       "4  30 - 60 minutes          Good             good            No  "
      ]
     },
     "execution_count": 12,
     "metadata": {},
     "output_type": "execute_result"
    }
   ],
   "source": [
    "df.head()"
   ]
  }
 ],
 "metadata": {
  "kaggle": {
   "accelerator": "none",
   "dataSources": [
    {
     "datasetId": 4795581,
     "sourceId": 8127361,
     "sourceType": "datasetVersion"
    }
   ],
   "dockerImageVersionId": 30684,
   "isGpuEnabled": false,
   "isInternetEnabled": true,
   "language": "python",
   "sourceType": "notebook"
  },
  "kernelspec": {
   "display_name": "Python 3",
   "language": "python",
   "name": "python3"
  },
  "language_info": {
   "codemirror_mode": {
    "name": "ipython",
    "version": 3
   },
   "file_extension": ".py",
   "mimetype": "text/x-python",
   "name": "python",
   "nbconvert_exporter": "python",
   "pygments_lexer": "ipython3",
   "version": "3.10.13"
  },
  "papermill": {
   "default_parameters": {},
   "duration": 8.55033,
   "end_time": "2024-04-23T22:32:38.384672",
   "environment_variables": {},
   "exception": null,
   "input_path": "__notebook__.ipynb",
   "output_path": "__notebook__.ipynb",
   "parameters": {},
   "start_time": "2024-04-23T22:32:29.834342",
   "version": "2.5.0"
  }
 },
 "nbformat": 4,
 "nbformat_minor": 5
}
